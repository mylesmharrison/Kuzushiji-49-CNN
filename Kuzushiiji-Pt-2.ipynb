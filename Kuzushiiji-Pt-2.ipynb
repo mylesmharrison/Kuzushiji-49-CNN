{
 "cells": [
  {
   "cell_type": "markdown",
   "id": "89a1fc67-30eb-45d2-89da-32a6d950898b",
   "metadata": {
    "id": "89a1fc67-30eb-45d2-89da-32a6d950898b"
   },
   "source": [
    "# Kuzushiji-49: An Introduction to CNNs"
   ]
  },
  {
   "cell_type": "markdown",
   "id": "e6d26f1a-dd28-4b62-81f1-84c67ac26780",
   "metadata": {
    "id": "e6d26f1a-dd28-4b62-81f1-84c67ac26780"
   },
   "source": [
    "## Part 2: Image Classification with CNNs in Keras"
   ]
  },
  {
   "cell_type": "markdown",
   "id": "26586eaa-ca81-43c4-b2b4-72b3b04331df",
   "metadata": {
    "id": "26586eaa-ca81-43c4-b2b4-72b3b04331df"
   },
   "source": [
    "### Introduction\n",
    "\n",
    "Now that we have explored the data and verified some assumptions, we will proceed in Part 2 to apply deep learning models for the purposes of image classification.\n",
    "\n",
    "In this notebook we will be using [Keras](https://keras.io/getting_started/), which has been integrated into the [Tensorflow](https://www.tensorflow.org/) deep learning framework proper since Version 2.0. \n",
    "\n",
    "Because we will doing deep learning which is computationally expensive, we will also be leveraging the free GPU computing available from [Google Colab](https://colab.research.google.com/). This will require some additional code to move the data from local into the cloud (Google Drive) and also some additional code for rendering the hiragana in plots which differs from on my local machine. We will address these points as the arise in the workflow.\n",
    "\n",
    "As always, first we will the regular core libraries of the data science stack as before:"
   ]
  },
  {
   "cell_type": "code",
   "execution_count": 1,
   "id": "a1c407b9-3e91-404a-bb37-af4265400189",
   "metadata": {
    "executionInfo": {
     "elapsed": 360,
     "status": "ok",
     "timestamp": 1675190088442,
     "user": {
      "displayName": "Myles Harrison",
      "userId": "02225822412878142066"
     },
     "user_tz": 300
    },
    "id": "a1c407b9-3e91-404a-bb37-af4265400189"
   },
   "outputs": [],
   "source": [
    "# holy trinity\n",
    "import numpy as np\n",
    "import pandas as pd\n",
    "import matplotlib.pyplot as plt"
   ]
  },
  {
   "cell_type": "markdown",
   "id": "Cio2Cs6dMGoj",
   "metadata": {
    "id": "Cio2Cs6dMGoj"
   },
   "source": [
    "### Loading the Data\n",
    "As mentioned above, the data needed to be moved into the cloud in order to be read in Colab. Since the number of files and their sizes are relatively small, I simply uploaded these through the browser.\n",
    "\n"
   ]
  },
  {
   "cell_type": "markdown",
   "id": "p7J5aF_gTk2D",
   "metadata": {
    "id": "p7J5aF_gTk2D"
   },
   "source": [
    "After this, we can mount Google Drive as a folder on the virtual machine backing the Colab notebook:"
   ]
  },
  {
   "cell_type": "code",
   "execution_count": 2,
   "id": "LEpqh3cNgq3T",
   "metadata": {
    "colab": {
     "base_uri": "https://localhost:8080/"
    },
    "executionInfo": {
     "elapsed": 30236,
     "status": "ok",
     "timestamp": 1675190118672,
     "user": {
      "displayName": "Myles Harrison",
      "userId": "02225822412878142066"
     },
     "user_tz": 300
    },
    "id": "LEpqh3cNgq3T",
    "outputId": "83813ba5-17ae-4a72-b196-74780e1a11af"
   },
   "outputs": [
    {
     "name": "stdout",
     "output_type": "stream",
     "text": [
      "Mounted at /content/drive/\n"
     ]
    }
   ],
   "source": [
    "from google.colab import drive\n",
    "drive.mount('/content/drive/')"
   ]
  },
  {
   "cell_type": "markdown",
   "id": "aavaapOlOG0z",
   "metadata": {
    "id": "aavaapOlOG0z"
   },
   "source": [
    "The files in Google Drive are now available in the filesystem of the virtual machine at `/content/drive`. Let's just quickly check that all the data files are there by running a bash command using `!`:"
   ]
  },
  {
   "cell_type": "code",
   "execution_count": 3,
   "id": "cQS2FFEbg7Zl",
   "metadata": {
    "colab": {
     "base_uri": "https://localhost:8080/"
    },
    "executionInfo": {
     "elapsed": 848,
     "status": "ok",
     "timestamp": 1675190119512,
     "user": {
      "displayName": "Myles Harrison",
      "userId": "02225822412878142066"
     },
     "user_tz": 300
    },
    "id": "cQS2FFEbg7Zl",
    "outputId": "3d5cc813-51a6-4bce-f268-47b75eefa9f3"
   },
   "outputs": [
    {
     "name": "stdout",
     "output_type": "stream",
     "text": [
      "k49_classmap.csv   k49-test-labels.npz\tk49-train-labels.npz\n",
      "k49-test-imgs.npz  k49-train-imgs.npz\n"
     ]
    }
   ],
   "source": [
    "!ls drive/MyDrive/kuzushiji/data/"
   ]
  },
  {
   "cell_type": "markdown",
   "id": "RHmAtBrpOcim",
   "metadata": {
    "id": "RHmAtBrpOcim"
   },
   "source": [
    "Great, the files are there, so we can go ahead and load them all together in one cell:"
   ]
  },
  {
   "cell_type": "code",
   "execution_count": 4,
   "id": "9c512e6e-6c1d-4211-8789-a94f8a37a377",
   "metadata": {
    "executionInfo": {
     "elapsed": 6838,
     "status": "ok",
     "timestamp": 1675190126347,
     "user": {
      "displayName": "Myles Harrison",
      "userId": "02225822412878142066"
     },
     "user_tz": 300
    },
    "id": "9c512e6e-6c1d-4211-8789-a94f8a37a377"
   },
   "outputs": [],
   "source": [
    "# Reload the data\n",
    "\n",
    "# Train\n",
    "X_train = np.load('drive/MyDrive/kuzushiji/data/k49-train-imgs.npz')['arr_0']\n",
    "y_train = np.load('drive/MyDrive/kuzushiji/data/k49-train-labels.npz')['arr_0']\n",
    "\n",
    "# Test\n",
    "X_test = np.load('drive/MyDrive/kuzushiji/data/k49-test-imgs.npz')['arr_0']\n",
    "y_test = np.load('drive/MyDrive/kuzushiji/data/k49-test-labels.npz')['arr_0']\n",
    "\n",
    "# Classmap\n",
    "classmap = pd.read_csv('drive/MyDrive/kuzushiji/data/k49_classmap.csv')"
   ]
  },
  {
   "cell_type": "markdown",
   "id": "4pSTdT2sT3wK",
   "metadata": {
    "id": "4pSTdT2sT3wK"
   },
   "source": [
    "### Adding a font for Japanese characters in Colab\n",
    "\n",
    "Unfortunately, simply using the code which worked locally did not work here, and this required a little more doing. I followed the excellent guide here: [Using external fonts in Google Colaboratory](https://buomsoo-kim.github.io/colab/2018/04/27/Using-External-fonts-in-colab.md/). This follows a very similar procedure to the references pointed to in Part 1, through creating a `FontProperties` object in matplotlib, and then passing it to plotting / annotation / axis labeling / etc. calls where required.\n",
    "\n",
    "For rendering Japanese characters, we'll be using [Noto Sans Japanese](https://fonts.google.com/noto/specimen/Noto+Sans+JP) from Google Fonts."
   ]
  },
  {
   "cell_type": "code",
   "execution_count": 5,
   "id": "w1362ylPOw2i",
   "metadata": {
    "colab": {
     "base_uri": "https://localhost:8080/",
     "height": 617
    },
    "executionInfo": {
     "elapsed": 3410,
     "status": "ok",
     "timestamp": 1675190129752,
     "user": {
      "displayName": "Myles Harrison",
      "userId": "02225822412878142066"
     },
     "user_tz": 300
    },
    "id": "w1362ylPOw2i",
    "outputId": "d335eae1-fe1b-441a-b0bd-2a1b98c8b981"
   },
   "outputs": [
    {
     "name": "stdout",
     "output_type": "stream",
     "text": [
      "--2023-01-31 18:35:19--  https://fonts.google.com/download?family=Noto%20Sans%20JP\n",
      "Resolving fonts.google.com (fonts.google.com)... 142.250.4.102, 142.250.4.101, 142.250.4.113, ...\n",
      "Connecting to fonts.google.com (fonts.google.com)|142.250.4.102|:443... connected.\n",
      "HTTP request sent, awaiting response... 200 OK\n",
      "Length: unspecified [application/zip]\n",
      "Saving to: ‘Noto_Sans_JP.zip’\n",
      "\n",
      "Noto_Sans_JP.zip        [   <=>              ]  22.35M  42.0MB/s    in 0.5s    \n",
      "\n",
      "2023-01-31 18:35:21 (42.0 MB/s) - ‘Noto_Sans_JP.zip’ saved [23439995]\n",
      "\n",
      "Archive:  Noto_Sans_JP.zip\n",
      "  inflating: OFL.txt                 \n",
      "  inflating: NotoSansJP-Thin.otf     \n",
      "  inflating: NotoSansJP-Light.otf    \n",
      "  inflating: NotoSansJP-Regular.otf  \n",
      "  inflating: NotoSansJP-Medium.otf   \n",
      "  inflating: NotoSansJP-Bold.otf     \n",
      "  inflating: NotoSansJP-Black.otf    \n"
     ]
    },
    {
     "data": {
      "image/png": "[encoded data removed]",
      "text/plain": [
       "<Figure size 432x288 with 1 Axes>"
      ]
     },
     "metadata": {
      "needs_background": "light"
     },
     "output_type": "display_data"
    }
   ],
   "source": [
    "# Download the fonts and move to the user font directory\n",
    "!yes | wget https://fonts.google.com/download?family=Noto%20Sans%20JP -O Noto_Sans_JP.zip\n",
    "!unzip Noto_Sans_JP.zip\n",
    "!mv *.otf /usr/share/fonts/truetype/\n",
    "\n",
    "# Verify below with a sample plot\n",
    "import matplotlib as mpl\n",
    "import matplotlib.pyplot as plt\n",
    "import matplotlib.font_manager as fm\n",
    "\n",
    "# Create FontProperties object using the file\n",
    "path = '/usr/share/fonts/truetype/NotoSansJP-Regular.otf'\n",
    "fontprop = fm.FontProperties(fname=path)\n",
    "\n",
    "# Test\n",
    "plt.plot(range(50), range(50), 'r')\n",
    "plt.title('あいうえおかきくけこ', fontproperties=fontprop, fontsize=20)\n",
    "plt.annotate('あ', (20, 30), fontproperties=fontprop, fontsize=20)\n",
    "plt.show()"
   ]
  },
  {
   "cell_type": "markdown",
   "id": "fb9d0f45-bb8d-48e6-b846-4fbf04dfba1d",
   "metadata": {
    "id": "fb9d0f45-bb8d-48e6-b846-4fbf04dfba1d"
   },
   "source": [
    "### Fundamentals of Deep Learning"
   ]
  },
  {
   "cell_type": "markdown",
   "id": "RLF7CWRwVtNo",
   "metadata": {
    "id": "RLF7CWRwVtNo"
   },
   "source": [
    "Before we start building our deep learning model - a Convolution Neural Network, or CNN - I will introduce some of the fundamental concepts of machine learning and building blocks of how neural networks work.\n",
    "\n",
    "First we must talk about what the goals of building a predictive model in supervised learning are: to make a prediction about the target (whether that be a class label or a continuous variable) and minimize the error (or, in a deep learning practitioner's parlance, the *loss*) in doing so.\n",
    "\n",
    "In the case of simple linear models, this translates to an optimization problem where the goal is to find the *model parameters* or *coefficients* which minimize the loss - this is what the \"learning\" in machine learning is - the model is learning the parameters which will minimize the error of its predictions over the whole training dataset.\n",
    "\n",
    "For a simple linear model for classification, were the goal is to predict the probability of the class label between 0 and 1, this takes the form of a [Logistic Regression](https://en.wikipedia.org/wiki/Logistic_regression) - a special function called the *sigmoid functions* is applied to a linear combination of our $x$ variables and also includes an intercept, $\\beta_0$ and coefficients which must be learned, in the vector $\\beta$:\n",
    "\n",
    "$\\hat{y} = f(x) = \\frac{1}{1 + \\exp{-(\\beta_0 + \\beta X})}$\n",
    "\n",
    "The end result for each observation and its values for each input variables (all the $x_i$ which make up $X$) is a value between 0 and 1, output as our $\\hat{y}$.\n",
    "\n",
    "### A Model of Models\n",
    "\n",
    "In deep learning, many models are combined together in different *layers* and the outputs of previous layers are used as inputs from the next layer. Each model which makes up the different layers in the network is referred to as a *node*.\n",
    "\n",
    "The first layer in the model, called  the *input* layer, is just the input data.The final layer in the model, called the *output* layer, combines all of the calculations from across the layers in-between - referred to as the *hidden layers* into our final prediction, $\\hat{y}$.\n",
    "\n",
    "![png](img/ann_diagram.png)\n",
    "\n",
    "Now, instead of learning the same number of coefficients for the model as input features $x_i$, each node will have its own set of coefficients (or in deep learning speak, *weights*) based upon the outputs of the previous layer.\n",
    "\n",
    "The number of hidden layers used and the number of weights present in each - collectively, making up what is referred to as the *model architecture* - is up to the modeller.\n",
    "\n",
    "Given this, the number of coefficients in a deep learning model tends to grow very large; it is not unusual for neural networks to have millions of weights. This is from where the much of the predictive power of artifical neural network arises. It also comes at a price, as finding the optimal values for such a large number of weights to minimize the error - or *loss* - now becomes a very computationally challenging problem.   \n",
    "\n"
   ]
  },
  {
   "cell_type": "markdown",
   "id": "3d9e24bd-7049-4bac-bfbf-f5890b50c461",
   "metadata": {
    "id": "3d9e24bd-7049-4bac-bfbf-f5890b50c461"
   },
   "source": [
    "### Modeling"
   ]
  },
  {
   "cell_type": "code",
   "execution_count": 6,
   "id": "e0ba4839-7256-4456-833c-d60601a3fef7",
   "metadata": {
    "executionInfo": {
     "elapsed": 1492,
     "status": "ok",
     "timestamp": 1675190131233,
     "user": {
      "displayName": "Myles Harrison",
      "userId": "02225822412878142066"
     },
     "user_tz": 300
    },
    "id": "e0ba4839-7256-4456-833c-d60601a3fef7"
   },
   "outputs": [],
   "source": [
    "from tensorflow.keras import Sequential\n",
    "from tensorflow.keras.layers import Input, Dense, Conv2D, MaxPooling2D, Flatten, Dropout"
   ]
  },
  {
   "cell_type": "markdown",
   "id": "cffcddc2-2b0c-4615-ab73-1e6c70ff901c",
   "metadata": {
    "id": "cffcddc2-2b0c-4615-ab73-1e6c70ff901c"
   },
   "source": [
    "## REVISE\n",
    "\n",
    "The three steps of setting up a Keras neural network:\n",
    "1. Instantiate the neural network (set up the architecture)\n",
    "2. Compile the model\n",
    "3. Train the model"
   ]
  },
  {
   "cell_type": "code",
   "execution_count": 7,
   "id": "c173b2a6-a08c-4a5d-8596-1a3a832202f0",
   "metadata": {
    "colab": {
     "base_uri": "https://localhost:8080/"
    },
    "executionInfo": {
     "elapsed": 6,
     "status": "ok",
     "timestamp": 1675190131234,
     "user": {
      "displayName": "Myles Harrison",
      "userId": "02225822412878142066"
     },
     "user_tz": 300
    },
    "id": "c173b2a6-a08c-4a5d-8596-1a3a832202f0",
    "outputId": "e65bb589-1528-48a7-ede5-55cf5f01c7b6"
   },
   "outputs": [
    {
     "name": "stdout",
     "output_type": "stream",
     "text": [
      "(232365, 28, 28)\n"
     ]
    }
   ],
   "source": [
    "input_shape = X_train.shape\n",
    "print(input_shape)"
   ]
  },
  {
   "cell_type": "markdown",
   "id": "e61bbe40-951c-4a8e-9ea3-a312e6ff14e2",
   "metadata": {
    "id": "e61bbe40-951c-4a8e-9ea3-a312e6ff14e2"
   },
   "source": [
    "Here, we will need to actually reshape our image data and add a fourth dimension of size 1 - this is to be the channel dimension which for color images would normally be 3 (for R, G, B) but in this case since we are working with black and white images."
   ]
  },
  {
   "cell_type": "code",
   "execution_count": 8,
   "id": "cdd605a8-8978-4215-9756-5c9f4e173e6a",
   "metadata": {
    "executionInfo": {
     "elapsed": 2888,
     "status": "ok",
     "timestamp": 1675190134119,
     "user": {
      "displayName": "Myles Harrison",
      "userId": "02225822412878142066"
     },
     "user_tz": 300
    },
    "id": "cdd605a8-8978-4215-9756-5c9f4e173e6a"
   },
   "outputs": [],
   "source": [
    "from tensorflow import expand_dims\n",
    "\n",
    "X2 = expand_dims(X_train, axis=-1)"
   ]
  },
  {
   "cell_type": "code",
   "execution_count": 9,
   "id": "b4ebc586-3907-47c9-959a-7f116f0fc121",
   "metadata": {
    "executionInfo": {
     "elapsed": 37,
     "status": "ok",
     "timestamp": 1675190134120,
     "user": {
      "displayName": "Myles Harrison",
      "userId": "02225822412878142066"
     },
     "user_tz": 300
    },
    "id": "b4ebc586-3907-47c9-959a-7f116f0fc121"
   },
   "outputs": [],
   "source": [
    "ks_model = Sequential()\n",
    "\n",
    "ks_model.add(Input(shape=(28, 28, 1)))\n",
    "ks_model.add(Conv2D(32, kernel_size=(3, 3), activation=\"relu\"))\n",
    "ks_model.add(MaxPooling2D(pool_size=(2, 2)))\n",
    "ks_model.add(Conv2D(64, kernel_size=(3, 3), activation=\"relu\"))\n",
    "ks_model.add(MaxPooling2D(pool_size=(2, 2)))\n",
    "ks_model.add(Flatten())\n",
    "ks_model.add(Dense(49, activation=\"softmax\"))"
   ]
  },
  {
   "cell_type": "code",
   "execution_count": 10,
   "id": "e9ac582c-9a3f-4ff4-b9de-7ffd9ae77420",
   "metadata": {
    "executionInfo": {
     "elapsed": 37,
     "status": "ok",
     "timestamp": 1675190134121,
     "user": {
      "displayName": "Myles Harrison",
      "userId": "02225822412878142066"
     },
     "user_tz": 300
    },
    "id": "e9ac582c-9a3f-4ff4-b9de-7ffd9ae77420"
   },
   "outputs": [],
   "source": [
    "ks_model.compile(loss=\"sparse_categorical_crossentropy\", optimizer=\"adam\", metrics=[\"accuracy\"])"
   ]
  },
  {
   "cell_type": "code",
   "execution_count": 11,
   "id": "5084a25e-fb08-4bea-bf32-23a500716a2b",
   "metadata": {
    "colab": {
     "base_uri": "https://localhost:8080/"
    },
    "executionInfo": {
     "elapsed": 37,
     "status": "ok",
     "timestamp": 1675190134122,
     "user": {
      "displayName": "Myles Harrison",
      "userId": "02225822412878142066"
     },
     "user_tz": 300
    },
    "id": "5084a25e-fb08-4bea-bf32-23a500716a2b",
    "outputId": "003bb66b-0edc-4463-85f6-2b3d71399c07"
   },
   "outputs": [
    {
     "name": "stdout",
     "output_type": "stream",
     "text": [
      "Model: \"sequential\"\n",
      "_________________________________________________________________\n",
      " Layer (type)                Output Shape              Param #   \n",
      "=================================================================\n",
      " conv2d (Conv2D)             (None, 26, 26, 32)        320       \n",
      "                                                                 \n",
      " max_pooling2d (MaxPooling2D  (None, 13, 13, 32)       0         \n",
      " )                                                               \n",
      "                                                                 \n",
      " conv2d_1 (Conv2D)           (None, 11, 11, 64)        18496     \n",
      "                                                                 \n",
      " max_pooling2d_1 (MaxPooling  (None, 5, 5, 64)         0         \n",
      " 2D)                                                             \n",
      "                                                                 \n",
      " flatten (Flatten)           (None, 1600)              0         \n",
      "                                                                 \n",
      " dense (Dense)               (None, 49)                78449     \n",
      "                                                                 \n",
      "=================================================================\n",
      "Total params: 97,265\n",
      "Trainable params: 97,265\n",
      "Non-trainable params: 0\n",
      "_________________________________________________________________\n"
     ]
    }
   ],
   "source": [
    "ks_model.summary()"
   ]
  },
  {
   "cell_type": "code",
   "execution_count": 12,
   "id": "c90f5cd7-2293-4789-94de-acb432a44042",
   "metadata": {
    "colab": {
     "base_uri": "https://localhost:8080/"
    },
    "executionInfo": {
     "elapsed": 25,
     "status": "ok",
     "timestamp": 1675190134122,
     "user": {
      "displayName": "Myles Harrison",
      "userId": "02225822412878142066"
     },
     "user_tz": 300
    },
    "id": "c90f5cd7-2293-4789-94de-acb432a44042",
    "outputId": "7752079a-6745-4c52-e6c2-3a1ec0ce1277"
   },
   "outputs": [
    {
     "data": {
      "text/plain": [
       "TensorShape([232365, 28, 28, 1])"
      ]
     },
     "execution_count": 12,
     "metadata": {},
     "output_type": "execute_result"
    }
   ],
   "source": [
    "X2.shape"
   ]
  },
  {
   "cell_type": "code",
   "execution_count": 13,
   "id": "d159b055-1898-4cc3-a04e-fc5fbefefefe",
   "metadata": {
    "executionInfo": {
     "elapsed": 22,
     "status": "ok",
     "timestamp": 1675190134123,
     "user": {
      "displayName": "Myles Harrison",
      "userId": "02225822412878142066"
     },
     "user_tz": 300
    },
    "id": "d159b055-1898-4cc3-a04e-fc5fbefefefe"
   },
   "outputs": [],
   "source": [
    "y2 = expand_dims(y_train, axis=-1)"
   ]
  },
  {
   "cell_type": "code",
   "execution_count": 14,
   "id": "da44820e-9440-46bd-9737-1a691818ec19",
   "metadata": {
    "colab": {
     "base_uri": "https://localhost:8080/"
    },
    "executionInfo": {
     "elapsed": 22,
     "status": "ok",
     "timestamp": 1675190134124,
     "user": {
      "displayName": "Myles Harrison",
      "userId": "02225822412878142066"
     },
     "user_tz": 300
    },
    "id": "da44820e-9440-46bd-9737-1a691818ec19",
    "outputId": "dc568973-c767-4339-a5d3-ab7936e5cf04"
   },
   "outputs": [
    {
     "data": {
      "text/plain": [
       "TensorShape([232365, 1])"
      ]
     },
     "execution_count": 14,
     "metadata": {},
     "output_type": "execute_result"
    }
   ],
   "source": [
    "y2.shape"
   ]
  },
  {
   "cell_type": "code",
   "execution_count": 15,
   "id": "f2891670-502d-4115-a176-56cb8d75e187",
   "metadata": {
    "colab": {
     "base_uri": "https://localhost:8080/"
    },
    "executionInfo": {
     "elapsed": 19,
     "status": "ok",
     "timestamp": 1675190134124,
     "user": {
      "displayName": "Myles Harrison",
      "userId": "02225822412878142066"
     },
     "user_tz": 300
    },
    "id": "f2891670-502d-4115-a176-56cb8d75e187",
    "outputId": "115859a9-ddb9-461f-c919-9fbe787401bc"
   },
   "outputs": [
    {
     "data": {
      "text/plain": [
       "TensorShape([232365, 1])"
      ]
     },
     "execution_count": 15,
     "metadata": {},
     "output_type": "execute_result"
    }
   ],
   "source": [
    "y2.shape"
   ]
  },
  {
   "cell_type": "code",
   "execution_count": 16,
   "id": "9_ApKUOuhP-e",
   "metadata": {
    "executionInfo": {
     "elapsed": 16,
     "status": "ok",
     "timestamp": 1675190134124,
     "user": {
      "displayName": "Myles Harrison",
      "userId": "02225822412878142066"
     },
     "user_tz": 300
    },
    "id": "9_ApKUOuhP-e"
   },
   "outputs": [],
   "source": [
    "from tensorflow import convert_to_tensor\n",
    "y2 = convert_to_tensor(y_train)"
   ]
  },
  {
   "cell_type": "code",
   "execution_count": 17,
   "id": "gWnQ40n1iwfd",
   "metadata": {
    "colab": {
     "base_uri": "https://localhost:8080/"
    },
    "executionInfo": {
     "elapsed": 17,
     "status": "ok",
     "timestamp": 1675190134125,
     "user": {
      "displayName": "Myles Harrison",
      "userId": "02225822412878142066"
     },
     "user_tz": 300
    },
    "id": "gWnQ40n1iwfd",
    "outputId": "75c50247-c891-4ef3-b89c-6f8333b223a0"
   },
   "outputs": [
    {
     "data": {
      "text/plain": [
       "162655"
      ]
     },
     "execution_count": 17,
     "metadata": {},
     "output_type": "execute_result"
    }
   ],
   "source": [
    "np.floor(y_train.shape[0]*0.7).astype(int)"
   ]
  },
  {
   "cell_type": "code",
   "execution_count": 18,
   "id": "hyrxcz62ifMt",
   "metadata": {
    "colab": {
     "base_uri": "https://localhost:8080/"
    },
    "executionInfo": {
     "elapsed": 14,
     "status": "ok",
     "timestamp": 1675190134125,
     "user": {
      "displayName": "Myles Harrison",
      "userId": "02225822412878142066"
     },
     "user_tz": 300
    },
    "id": "hyrxcz62ifMt",
    "outputId": "24154222-ff21-4e30-faca-fe1552bef3e6"
   },
   "outputs": [
    {
     "data": {
      "text/plain": [
       "21    1838\n",
       "20    1838\n",
       "35    1832\n",
       "6     1830\n",
       "9     1824\n",
       "1     1822\n",
       "17    1816\n",
       "34    1815\n",
       "41    1809\n",
       "15    1806\n",
       "47    1806\n",
       "0     1805\n",
       "5     1803\n",
       "18    1803\n",
       "12    1802\n",
       "40    1801\n",
       "30    1800\n",
       "19    1796\n",
       "7     1796\n",
       "46    1795\n",
       "28    1795\n",
       "24    1791\n",
       "10    1790\n",
       "25    1786\n",
       "38    1781\n",
       "37    1780\n",
       "11    1778\n",
       "2     1761\n",
       "39    1756\n",
       "27    1742\n",
       "4     1739\n",
       "26    1535\n",
       "8     1386\n",
       "13    1215\n",
       "14    1153\n",
       "48    1091\n",
       "33    1025\n",
       "31     914\n",
       "16     796\n",
       "23     775\n",
       "43     715\n",
       "42     621\n",
       "29     620\n",
       "22     618\n",
       "36     520\n",
       "32     502\n",
       "3      231\n",
       "45     143\n",
       "44     114\n",
       "dtype: int64"
      ]
     },
     "execution_count": 18,
     "metadata": {},
     "output_type": "execute_result"
    }
   ],
   "source": [
    "pd.Series(y_train[np.floor(y_train.shape[0]*0.7).astype(int):]).value_counts()"
   ]
  },
  {
   "cell_type": "code",
   "execution_count": 19,
   "id": "fb27983d-9ba3-418b-b416-286b470243c4",
   "metadata": {
    "colab": {
     "base_uri": "https://localhost:8080/"
    },
    "executionInfo": {
     "elapsed": 262992,
     "status": "ok",
     "timestamp": 1675190397106,
     "user": {
      "displayName": "Myles Harrison",
      "userId": "02225822412878142066"
     },
     "user_tz": 300
    },
    "id": "fb27983d-9ba3-418b-b416-286b470243c4",
    "outputId": "9a343c86-60e6-48a4-932d-0842a61bccfe"
   },
   "outputs": [
    {
     "name": "stdout",
     "output_type": "stream",
     "text": [
      "Epoch 1/10\n",
      "5083/5083 [==============================] - 29s 4ms/step - loss: 0.7673 - accuracy: 0.8191 - val_loss: 0.4074 - val_accuracy: 0.8881\n",
      "Epoch 2/10\n",
      "5083/5083 [==============================] - 33s 6ms/step - loss: 0.3501 - accuracy: 0.9041 - val_loss: 0.3390 - val_accuracy: 0.9068\n",
      "Epoch 3/10\n",
      "5083/5083 [==============================] - 24s 5ms/step - loss: 0.2850 - accuracy: 0.9199 - val_loss: 0.3066 - val_accuracy: 0.9174\n",
      "Epoch 4/10\n",
      "5083/5083 [==============================] - 24s 5ms/step - loss: 0.2493 - accuracy: 0.9288 - val_loss: 0.3027 - val_accuracy: 0.9179\n",
      "Epoch 5/10\n",
      "5083/5083 [==============================] - 25s 5ms/step - loss: 0.2268 - accuracy: 0.9344 - val_loss: 0.3092 - val_accuracy: 0.9187\n",
      "Epoch 6/10\n",
      "5083/5083 [==============================] - 22s 4ms/step - loss: 0.2093 - accuracy: 0.9394 - val_loss: 0.3182 - val_accuracy: 0.9194\n",
      "Epoch 7/10\n",
      "5083/5083 [==============================] - 21s 4ms/step - loss: 0.1982 - accuracy: 0.9417 - val_loss: 0.3224 - val_accuracy: 0.9213\n",
      "Epoch 8/10\n",
      "5083/5083 [==============================] - 25s 5ms/step - loss: 0.1901 - accuracy: 0.9440 - val_loss: 0.3313 - val_accuracy: 0.9143\n",
      "Epoch 9/10\n",
      "5083/5083 [==============================] - 21s 4ms/step - loss: 0.1806 - accuracy: 0.9461 - val_loss: 0.3287 - val_accuracy: 0.9190\n",
      "Epoch 10/10\n",
      "5083/5083 [==============================] - 21s 4ms/step - loss: 0.1736 - accuracy: 0.9483 - val_loss: 0.3636 - val_accuracy: 0.9150\n"
     ]
    }
   ],
   "source": [
    "history = ks_model.fit(X2, y2, epochs=10, validation_split=0.3)"
   ]
  },
  {
   "cell_type": "code",
   "execution_count": 20,
   "id": "dc0615a2-f3a6-446a-93b0-820fd86c6901",
   "metadata": {
    "colab": {
     "base_uri": "https://localhost:8080/"
    },
    "executionInfo": {
     "elapsed": 19,
     "status": "ok",
     "timestamp": 1675190397108,
     "user": {
      "displayName": "Myles Harrison",
      "userId": "02225822412878142066"
     },
     "user_tz": 300
    },
    "id": "dc0615a2-f3a6-446a-93b0-820fd86c6901",
    "outputId": "c0338db8-624a-403e-cc70-6b1019afe3d9"
   },
   "outputs": [
    {
     "data": {
      "text/plain": [
       "{'loss': [0.7673015594482422,\n",
       "  0.350089430809021,\n",
       "  0.2850083112716675,\n",
       "  0.24926000833511353,\n",
       "  0.22682072222232819,\n",
       "  0.2092631608247757,\n",
       "  0.19822987914085388,\n",
       "  0.19012174010276794,\n",
       "  0.18058675527572632,\n",
       "  0.1736450493335724],\n",
       " 'accuracy': [0.8191202282905579,\n",
       "  0.904054582118988,\n",
       "  0.9198733568191528,\n",
       "  0.9288432598114014,\n",
       "  0.934394896030426,\n",
       "  0.9393993616104126,\n",
       "  0.941735565662384,\n",
       "  0.9440287947654724,\n",
       "  0.9461314082145691,\n",
       "  0.9482524394989014],\n",
       " 'val_loss': [0.40738826990127563,\n",
       "  0.33896327018737793,\n",
       "  0.30663248896598816,\n",
       "  0.3026922643184662,\n",
       "  0.3092353940010071,\n",
       "  0.31818506121635437,\n",
       "  0.3224066495895386,\n",
       "  0.3312598466873169,\n",
       "  0.32874393463134766,\n",
       "  0.3636241555213928],\n",
       " 'val_accuracy': [0.8881222009658813,\n",
       "  0.9067996144294739,\n",
       "  0.9174293279647827,\n",
       "  0.9178597331047058,\n",
       "  0.9187204241752625,\n",
       "  0.9193803071975708,\n",
       "  0.9213025569915771,\n",
       "  0.9143451452255249,\n",
       "  0.9189786314964294,\n",
       "  0.9149906635284424]}"
      ]
     },
     "execution_count": 20,
     "metadata": {},
     "output_type": "execute_result"
    }
   ],
   "source": [
    "history.history"
   ]
  },
  {
   "cell_type": "code",
   "execution_count": 21,
   "id": "8fb38c3c-e18f-4666-adc8-0ab470d9f577",
   "metadata": {
    "colab": {
     "base_uri": "https://localhost:8080/",
     "height": 279
    },
    "executionInfo": {
     "elapsed": 16,
     "status": "ok",
     "timestamp": 1675190397109,
     "user": {
      "displayName": "Myles Harrison",
      "userId": "02225822412878142066"
     },
     "user_tz": 300
    },
    "id": "8fb38c3c-e18f-4666-adc8-0ab470d9f577",
    "outputId": "579c36f3-7eb7-40f7-fdf7-42444e5d22c3"
   },
   "outputs": [
    {
     "data": {
      "image/png": "[encoded data removed]",
      "text/plain": [
       "<Figure size 432x288 with 1 Axes>"
      ]
     },
     "metadata": {
      "needs_background": "light"
     },
     "output_type": "display_data"
    }
   ],
   "source": [
    "plt.plot(history.history['loss'], marker='.', label='training')\n",
    "plt.plot(history.history['val_loss'], marker='.', label='validation')\n",
    "plt.xlabel('Epoch of training')\n",
    "plt.ylabel('Accuracy')\n",
    "plt.legend()\n",
    "plt.xticks(np.arange(10)+1)\n",
    "plt.show()"
   ]
  },
  {
   "cell_type": "code",
   "execution_count": 22,
   "id": "7ba3fceb-9135-442f-b371-1171a51eecea",
   "metadata": {
    "colab": {
     "base_uri": "https://localhost:8080/"
    },
    "executionInfo": {
     "elapsed": 2565,
     "status": "ok",
     "timestamp": 1675190399662,
     "user": {
      "displayName": "Myles Harrison",
      "userId": "02225822412878142066"
     },
     "user_tz": 300
    },
    "id": "7ba3fceb-9135-442f-b371-1171a51eecea",
    "outputId": "f6379bc5-3ea4-4719-d390-558fade8c0da"
   },
   "outputs": [
    {
     "name": "stdout",
     "output_type": "stream",
     "text": [
      "1205/1205 [==============================] - 2s 2ms/step\n"
     ]
    }
   ],
   "source": [
    "y_proba = ks_model.predict(X_test)"
   ]
  },
  {
   "cell_type": "code",
   "execution_count": 23,
   "id": "d251d464-a8b2-49c6-a41e-86a39ac0da5c",
   "metadata": {
    "executionInfo": {
     "elapsed": 9,
     "status": "ok",
     "timestamp": 1675190399662,
     "user": {
      "displayName": "Myles Harrison",
      "userId": "02225822412878142066"
     },
     "user_tz": 300
    },
    "id": "d251d464-a8b2-49c6-a41e-86a39ac0da5c"
   },
   "outputs": [],
   "source": [
    "# Crashed my kernel\n",
    "#ks_model.evaluate(X_test, y_test)"
   ]
  },
  {
   "cell_type": "code",
   "execution_count": 24,
   "id": "15756a60-aaf6-4e4d-b40d-36f2233d9fa5",
   "metadata": {
    "colab": {
     "base_uri": "https://localhost:8080/"
    },
    "executionInfo": {
     "elapsed": 9,
     "status": "ok",
     "timestamp": 1675190399663,
     "user": {
      "displayName": "Myles Harrison",
      "userId": "02225822412878142066"
     },
     "user_tz": 300
    },
    "id": "15756a60-aaf6-4e4d-b40d-36f2233d9fa5",
    "outputId": "782853c5-2b99-4458-e19f-a7ea6b3bf47d"
   },
   "outputs": [
    {
     "data": {
      "text/plain": [
       "(38547, 49)"
      ]
     },
     "execution_count": 24,
     "metadata": {},
     "output_type": "execute_result"
    }
   ],
   "source": [
    "y_proba.shape"
   ]
  },
  {
   "cell_type": "code",
   "execution_count": 25,
   "id": "b0ed0208-7951-4232-a7d0-bdf5162ed04b",
   "metadata": {
    "executionInfo": {
     "elapsed": 6,
     "status": "ok",
     "timestamp": 1675190399663,
     "user": {
      "displayName": "Myles Harrison",
      "userId": "02225822412878142066"
     },
     "user_tz": 300
    },
    "id": "b0ed0208-7951-4232-a7d0-bdf5162ed04b"
   },
   "outputs": [],
   "source": [
    "y_pred = y_proba.argmax(axis=1)"
   ]
  },
  {
   "cell_type": "code",
   "execution_count": 26,
   "id": "f11ab0b9-d6b9-4362-b363-2cf9d3394af8",
   "metadata": {
    "executionInfo": {
     "elapsed": 792,
     "status": "ok",
     "timestamp": 1675190400449,
     "user": {
      "displayName": "Myles Harrison",
      "userId": "02225822412878142066"
     },
     "user_tz": 300
    },
    "id": "f11ab0b9-d6b9-4362-b363-2cf9d3394af8"
   },
   "outputs": [],
   "source": [
    "from sklearn.metrics import accuracy_score, confusion_matrix, classification_report"
   ]
  },
  {
   "cell_type": "code",
   "execution_count": 27,
   "id": "f05267f3-b83b-41f7-95a8-2ad6f639aacc",
   "metadata": {
    "colab": {
     "base_uri": "https://localhost:8080/"
    },
    "executionInfo": {
     "elapsed": 32,
     "status": "ok",
     "timestamp": 1675190400450,
     "user": {
      "displayName": "Myles Harrison",
      "userId": "02225822412878142066"
     },
     "user_tz": 300
    },
    "id": "f05267f3-b83b-41f7-95a8-2ad6f639aacc",
    "outputId": "c5177f1b-3a56-4def-c48a-d977009b311b"
   },
   "outputs": [
    {
     "data": {
      "text/plain": [
       "0.8581990816405946"
      ]
     },
     "execution_count": 27,
     "metadata": {},
     "output_type": "execute_result"
    }
   ],
   "source": [
    "accuracy_score(y_test, y_pred)"
   ]
  },
  {
   "cell_type": "code",
   "execution_count": 28,
   "id": "6557d9f1-b328-4d38-8e46-afe6d228b4c2",
   "metadata": {
    "executionInfo": {
     "elapsed": 30,
     "status": "ok",
     "timestamp": 1675190400451,
     "user": {
      "displayName": "Myles Harrison",
      "userId": "02225822412878142066"
     },
     "user_tz": 300
    },
    "id": "6557d9f1-b328-4d38-8e46-afe6d228b4c2"
   },
   "outputs": [],
   "source": [
    "class_report = classification_report(y_test, y_pred, output_dict=True)"
   ]
  },
  {
   "cell_type": "code",
   "execution_count": 29,
   "id": "8718b48d-b188-4e43-94cd-9220b78bf329",
   "metadata": {
    "colab": {
     "base_uri": "https://localhost:8080/",
     "height": 206
    },
    "executionInfo": {
     "elapsed": 31,
     "status": "ok",
     "timestamp": 1675190400453,
     "user": {
      "displayName": "Myles Harrison",
      "userId": "02225822412878142066"
     },
     "user_tz": 300
    },
    "id": "8718b48d-b188-4e43-94cd-9220b78bf329",
    "outputId": "f99e8391-b885-4a3a-95c3-9980f2a66669"
   },
   "outputs": [
    {
     "data": {
      "text/html": [
       "\n",
       "  <div id=\"df-e5721a80-8e94-4757-844a-33aa80631699\">\n",
       "    <div class=\"colab-df-container\">\n",
       "      <div>\n",
       "<style scoped>\n",
       "    .dataframe tbody tr th:only-of-type {\n",
       "        vertical-align: middle;\n",
       "    }\n",
       "\n",
       "    .dataframe tbody tr th {\n",
       "        vertical-align: top;\n",
       "    }\n",
       "\n",
       "    .dataframe thead th {\n",
       "        text-align: right;\n",
       "    }\n",
       "</style>\n",
       "<table border=\"1\" class=\"dataframe\">\n",
       "  <thead>\n",
       "    <tr style=\"text-align: right;\">\n",
       "      <th></th>\n",
       "      <th>precision</th>\n",
       "      <th>recall</th>\n",
       "      <th>f1-score</th>\n",
       "      <th>support</th>\n",
       "    </tr>\n",
       "  </thead>\n",
       "  <tbody>\n",
       "    <tr>\n",
       "      <th>0</th>\n",
       "      <td>0.872778</td>\n",
       "      <td>0.933000</td>\n",
       "      <td>0.901885</td>\n",
       "      <td>1000.0</td>\n",
       "    </tr>\n",
       "    <tr>\n",
       "      <th>1</th>\n",
       "      <td>0.951515</td>\n",
       "      <td>0.942000</td>\n",
       "      <td>0.946734</td>\n",
       "      <td>1000.0</td>\n",
       "    </tr>\n",
       "    <tr>\n",
       "      <th>2</th>\n",
       "      <td>0.926633</td>\n",
       "      <td>0.922000</td>\n",
       "      <td>0.924311</td>\n",
       "      <td>1000.0</td>\n",
       "    </tr>\n",
       "    <tr>\n",
       "      <th>3</th>\n",
       "      <td>0.740260</td>\n",
       "      <td>0.904762</td>\n",
       "      <td>0.814286</td>\n",
       "      <td>126.0</td>\n",
       "    </tr>\n",
       "    <tr>\n",
       "      <th>4</th>\n",
       "      <td>0.911432</td>\n",
       "      <td>0.885000</td>\n",
       "      <td>0.898021</td>\n",
       "      <td>1000.0</td>\n",
       "    </tr>\n",
       "  </tbody>\n",
       "</table>\n",
       "</div>\n",
       "      <button class=\"colab-df-convert\" onclick=\"convertToInteractive('df-e5721a80-8e94-4757-844a-33aa80631699')\"\n",
       "              title=\"Convert this dataframe to an interactive table.\"\n",
       "              style=\"display:none;\">\n",
       "        \n",
       "  <svg xmlns=\"http://www.w3.org/2000/svg\" height=\"24px\"viewBox=\"0 0 24 24\"\n",
       "       width=\"24px\">\n",
       "    <path d=\"M0 0h24v24H0V0z\" fill=\"none\"/>\n",
       "    <path d=\"M18.56 5.44l.94 2.06.94-2.06 2.06-.94-2.06-.94-.94-2.06-.94 2.06-2.06.94zm-11 1L8.5 8.5l.94-2.06 2.06-.94-2.06-.94L8.5 2.5l-.94 2.06-2.06.94zm10 10l.94 2.06.94-2.06 2.06-.94-2.06-.94-.94-2.06-.94 2.06-2.06.94z\"/><path d=\"M17.41 7.96l-1.37-1.37c-.4-.4-.92-.59-1.43-.59-.52 0-1.04.2-1.43.59L10.3 9.45l-7.72 7.72c-.78.78-.78 2.05 0 2.83L4 21.41c.39.39.9.59 1.41.59.51 0 1.02-.2 1.41-.59l7.78-7.78 2.81-2.81c.8-.78.8-2.07 0-2.86zM5.41 20L4 18.59l7.72-7.72 1.47 1.35L5.41 20z\"/>\n",
       "  </svg>\n",
       "      </button>\n",
       "      \n",
       "  <style>\n",
       "    .colab-df-container {\n",
       "      display:flex;\n",
       "      flex-wrap:wrap;\n",
       "      gap: 12px;\n",
       "    }\n",
       "\n",
       "    .colab-df-convert {\n",
       "      background-color: #E8F0FE;\n",
       "      border: none;\n",
       "      border-radius: 50%;\n",
       "      cursor: pointer;\n",
       "      display: none;\n",
       "      fill: #1967D2;\n",
       "      height: 32px;\n",
       "      padding: 0 0 0 0;\n",
       "      width: 32px;\n",
       "    }\n",
       "\n",
       "    .colab-df-convert:hover {\n",
       "      background-color: #E2EBFA;\n",
       "      box-shadow: 0px 1px 2px rgba(60, 64, 67, 0.3), 0px 1px 3px 1px rgba(60, 64, 67, 0.15);\n",
       "      fill: #174EA6;\n",
       "    }\n",
       "\n",
       "    [theme=dark] .colab-df-convert {\n",
       "      background-color: #3B4455;\n",
       "      fill: #D2E3FC;\n",
       "    }\n",
       "\n",
       "    [theme=dark] .colab-df-convert:hover {\n",
       "      background-color: #434B5C;\n",
       "      box-shadow: 0px 1px 3px 1px rgba(0, 0, 0, 0.15);\n",
       "      filter: drop-shadow(0px 1px 2px rgba(0, 0, 0, 0.3));\n",
       "      fill: #FFFFFF;\n",
       "    }\n",
       "  </style>\n",
       "\n",
       "      <script>\n",
       "        const buttonEl =\n",
       "          document.querySelector('#df-e5721a80-8e94-4757-844a-33aa80631699 button.colab-df-convert');\n",
       "        buttonEl.style.display =\n",
       "          google.colab.kernel.accessAllowed ? 'block' : 'none';\n",
       "\n",
       "        async function convertToInteractive(key) {\n",
       "          const element = document.querySelector('#df-e5721a80-8e94-4757-844a-33aa80631699');\n",
       "          const dataTable =\n",
       "            await google.colab.kernel.invokeFunction('convertToInteractive',\n",
       "                                                     [key], {});\n",
       "          if (!dataTable) return;\n",
       "\n",
       "          const docLinkHtml = 'Like what you see? Visit the ' +\n",
       "            '<a target=\"_blank\" href=https://colab.research.google.com/notebooks/data_table.ipynb>data table notebook</a>'\n",
       "            + ' to learn more about interactive tables.';\n",
       "          element.innerHTML = '';\n",
       "          dataTable['output_type'] = 'display_data';\n",
       "          await google.colab.output.renderOutput(dataTable, element);\n",
       "          const docLink = document.createElement('div');\n",
       "          docLink.innerHTML = docLinkHtml;\n",
       "          element.appendChild(docLink);\n",
       "        }\n",
       "      </script>\n",
       "    </div>\n",
       "  </div>\n",
       "  "
      ],
      "text/plain": [
       "   precision    recall  f1-score  support\n",
       "0   0.872778  0.933000  0.901885   1000.0\n",
       "1   0.951515  0.942000  0.946734   1000.0\n",
       "2   0.926633  0.922000  0.924311   1000.0\n",
       "3   0.740260  0.904762  0.814286    126.0\n",
       "4   0.911432  0.885000  0.898021   1000.0"
      ]
     },
     "execution_count": 29,
     "metadata": {},
     "output_type": "execute_result"
    }
   ],
   "source": [
    "report_df = pd.DataFrame(class_report).T\n",
    "\n",
    "report_df.head()"
   ]
  },
  {
   "cell_type": "code",
   "execution_count": 30,
   "id": "8dbf7246-427e-45a0-9ad7-71510d48d9c1",
   "metadata": {
    "executionInfo": {
     "elapsed": 30,
     "status": "ok",
     "timestamp": 1675190400454,
     "user": {
      "displayName": "Myles Harrison",
      "userId": "02225822412878142066"
     },
     "user_tz": 300
    },
    "id": "8dbf7246-427e-45a0-9ad7-71510d48d9c1"
   },
   "outputs": [],
   "source": [
    "classmap.index = classmap.index.astype(str)"
   ]
  },
  {
   "cell_type": "code",
   "execution_count": 31,
   "id": "2bc74dda-41f6-483a-93bd-e452bea75344",
   "metadata": {
    "colab": {
     "base_uri": "https://localhost:8080/",
     "height": 206
    },
    "executionInfo": {
     "elapsed": 30,
     "status": "ok",
     "timestamp": 1675190400455,
     "user": {
      "displayName": "Myles Harrison",
      "userId": "02225822412878142066"
     },
     "user_tz": 300
    },
    "id": "2bc74dda-41f6-483a-93bd-e452bea75344",
    "outputId": "794f448f-8594-4558-86a5-72cd417fad9f"
   },
   "outputs": [
    {
     "data": {
      "text/html": [
       "\n",
       "  <div id=\"df-e2c62a2f-3e67-4ff6-8382-8ba97c5e655b\">\n",
       "    <div class=\"colab-df-container\">\n",
       "      <div>\n",
       "<style scoped>\n",
       "    .dataframe tbody tr th:only-of-type {\n",
       "        vertical-align: middle;\n",
       "    }\n",
       "\n",
       "    .dataframe tbody tr th {\n",
       "        vertical-align: top;\n",
       "    }\n",
       "\n",
       "    .dataframe thead th {\n",
       "        text-align: right;\n",
       "    }\n",
       "</style>\n",
       "<table border=\"1\" class=\"dataframe\">\n",
       "  <thead>\n",
       "    <tr style=\"text-align: right;\">\n",
       "      <th></th>\n",
       "      <th>precision</th>\n",
       "      <th>recall</th>\n",
       "      <th>f1-score</th>\n",
       "      <th>support</th>\n",
       "      <th>index</th>\n",
       "      <th>codepoint</th>\n",
       "      <th>char</th>\n",
       "    </tr>\n",
       "  </thead>\n",
       "  <tbody>\n",
       "    <tr>\n",
       "      <th>0</th>\n",
       "      <td>0.872778</td>\n",
       "      <td>0.933000</td>\n",
       "      <td>0.901885</td>\n",
       "      <td>1000.0</td>\n",
       "      <td>0.0</td>\n",
       "      <td>U+3042</td>\n",
       "      <td>あ</td>\n",
       "    </tr>\n",
       "    <tr>\n",
       "      <th>1</th>\n",
       "      <td>0.951515</td>\n",
       "      <td>0.942000</td>\n",
       "      <td>0.946734</td>\n",
       "      <td>1000.0</td>\n",
       "      <td>1.0</td>\n",
       "      <td>U+3044</td>\n",
       "      <td>い</td>\n",
       "    </tr>\n",
       "    <tr>\n",
       "      <th>2</th>\n",
       "      <td>0.926633</td>\n",
       "      <td>0.922000</td>\n",
       "      <td>0.924311</td>\n",
       "      <td>1000.0</td>\n",
       "      <td>2.0</td>\n",
       "      <td>U+3046</td>\n",
       "      <td>う</td>\n",
       "    </tr>\n",
       "    <tr>\n",
       "      <th>3</th>\n",
       "      <td>0.740260</td>\n",
       "      <td>0.904762</td>\n",
       "      <td>0.814286</td>\n",
       "      <td>126.0</td>\n",
       "      <td>3.0</td>\n",
       "      <td>U+3048</td>\n",
       "      <td>え</td>\n",
       "    </tr>\n",
       "    <tr>\n",
       "      <th>4</th>\n",
       "      <td>0.911432</td>\n",
       "      <td>0.885000</td>\n",
       "      <td>0.898021</td>\n",
       "      <td>1000.0</td>\n",
       "      <td>4.0</td>\n",
       "      <td>U+304A</td>\n",
       "      <td>お</td>\n",
       "    </tr>\n",
       "  </tbody>\n",
       "</table>\n",
       "</div>\n",
       "      <button class=\"colab-df-convert\" onclick=\"convertToInteractive('df-e2c62a2f-3e67-4ff6-8382-8ba97c5e655b')\"\n",
       "              title=\"Convert this dataframe to an interactive table.\"\n",
       "              style=\"display:none;\">\n",
       "        \n",
       "  <svg xmlns=\"http://www.w3.org/2000/svg\" height=\"24px\"viewBox=\"0 0 24 24\"\n",
       "       width=\"24px\">\n",
       "    <path d=\"M0 0h24v24H0V0z\" fill=\"none\"/>\n",
       "    <path d=\"M18.56 5.44l.94 2.06.94-2.06 2.06-.94-2.06-.94-.94-2.06-.94 2.06-2.06.94zm-11 1L8.5 8.5l.94-2.06 2.06-.94-2.06-.94L8.5 2.5l-.94 2.06-2.06.94zm10 10l.94 2.06.94-2.06 2.06-.94-2.06-.94-.94-2.06-.94 2.06-2.06.94z\"/><path d=\"M17.41 7.96l-1.37-1.37c-.4-.4-.92-.59-1.43-.59-.52 0-1.04.2-1.43.59L10.3 9.45l-7.72 7.72c-.78.78-.78 2.05 0 2.83L4 21.41c.39.39.9.59 1.41.59.51 0 1.02-.2 1.41-.59l7.78-7.78 2.81-2.81c.8-.78.8-2.07 0-2.86zM5.41 20L4 18.59l7.72-7.72 1.47 1.35L5.41 20z\"/>\n",
       "  </svg>\n",
       "      </button>\n",
       "      \n",
       "  <style>\n",
       "    .colab-df-container {\n",
       "      display:flex;\n",
       "      flex-wrap:wrap;\n",
       "      gap: 12px;\n",
       "    }\n",
       "\n",
       "    .colab-df-convert {\n",
       "      background-color: #E8F0FE;\n",
       "      border: none;\n",
       "      border-radius: 50%;\n",
       "      cursor: pointer;\n",
       "      display: none;\n",
       "      fill: #1967D2;\n",
       "      height: 32px;\n",
       "      padding: 0 0 0 0;\n",
       "      width: 32px;\n",
       "    }\n",
       "\n",
       "    .colab-df-convert:hover {\n",
       "      background-color: #E2EBFA;\n",
       "      box-shadow: 0px 1px 2px rgba(60, 64, 67, 0.3), 0px 1px 3px 1px rgba(60, 64, 67, 0.15);\n",
       "      fill: #174EA6;\n",
       "    }\n",
       "\n",
       "    [theme=dark] .colab-df-convert {\n",
       "      background-color: #3B4455;\n",
       "      fill: #D2E3FC;\n",
       "    }\n",
       "\n",
       "    [theme=dark] .colab-df-convert:hover {\n",
       "      background-color: #434B5C;\n",
       "      box-shadow: 0px 1px 3px 1px rgba(0, 0, 0, 0.15);\n",
       "      filter: drop-shadow(0px 1px 2px rgba(0, 0, 0, 0.3));\n",
       "      fill: #FFFFFF;\n",
       "    }\n",
       "  </style>\n",
       "\n",
       "      <script>\n",
       "        const buttonEl =\n",
       "          document.querySelector('#df-e2c62a2f-3e67-4ff6-8382-8ba97c5e655b button.colab-df-convert');\n",
       "        buttonEl.style.display =\n",
       "          google.colab.kernel.accessAllowed ? 'block' : 'none';\n",
       "\n",
       "        async function convertToInteractive(key) {\n",
       "          const element = document.querySelector('#df-e2c62a2f-3e67-4ff6-8382-8ba97c5e655b');\n",
       "          const dataTable =\n",
       "            await google.colab.kernel.invokeFunction('convertToInteractive',\n",
       "                                                     [key], {});\n",
       "          if (!dataTable) return;\n",
       "\n",
       "          const docLinkHtml = 'Like what you see? Visit the ' +\n",
       "            '<a target=\"_blank\" href=https://colab.research.google.com/notebooks/data_table.ipynb>data table notebook</a>'\n",
       "            + ' to learn more about interactive tables.';\n",
       "          element.innerHTML = '';\n",
       "          dataTable['output_type'] = 'display_data';\n",
       "          await google.colab.output.renderOutput(dataTable, element);\n",
       "          const docLink = document.createElement('div');\n",
       "          docLink.innerHTML = docLinkHtml;\n",
       "          element.appendChild(docLink);\n",
       "        }\n",
       "      </script>\n",
       "    </div>\n",
       "  </div>\n",
       "  "
      ],
      "text/plain": [
       "   precision    recall  f1-score  support  index codepoint char\n",
       "0   0.872778  0.933000  0.901885   1000.0    0.0    U+3042    あ\n",
       "1   0.951515  0.942000  0.946734   1000.0    1.0    U+3044    い\n",
       "2   0.926633  0.922000  0.924311   1000.0    2.0    U+3046    う\n",
       "3   0.740260  0.904762  0.814286    126.0    3.0    U+3048    え\n",
       "4   0.911432  0.885000  0.898021   1000.0    4.0    U+304A    お"
      ]
     },
     "execution_count": 31,
     "metadata": {},
     "output_type": "execute_result"
    }
   ],
   "source": [
    "report_df_joined = report_df.join(classmap)\n",
    "report_df_joined.head()"
   ]
  },
  {
   "cell_type": "code",
   "execution_count": 32,
   "id": "b1b7e0a7-1166-4113-aa2f-61a3712c956f",
   "metadata": {
    "executionInfo": {
     "elapsed": 29,
     "status": "ok",
     "timestamp": 1675190400456,
     "user": {
      "displayName": "Myles Harrison",
      "userId": "02225822412878142066"
     },
     "user_tz": 300
    },
    "id": "b1b7e0a7-1166-4113-aa2f-61a3712c956f"
   },
   "outputs": [],
   "source": [
    "report_df = report_df[0:49]\n",
    "report_df.index = report_df.index.astype(int)"
   ]
  },
  {
   "cell_type": "code",
   "execution_count": 33,
   "id": "a3c3d506-f048-43c7-9032-5891a0ffea56",
   "metadata": {
    "executionInfo": {
     "elapsed": 30,
     "status": "ok",
     "timestamp": 1675190400457,
     "user": {
      "displayName": "Myles Harrison",
      "userId": "02225822412878142066"
     },
     "user_tz": 300
    },
    "id": "a3c3d506-f048-43c7-9032-5891a0ffea56"
   },
   "outputs": [],
   "source": [
    "report_df.index = report_df.index.map(classmap['char'])"
   ]
  },
  {
   "cell_type": "code",
   "execution_count": 34,
   "id": "29302223-fa07-4afa-a277-628e4848e897",
   "metadata": {
    "colab": {
     "base_uri": "https://localhost:8080/",
     "height": 36
    },
    "executionInfo": {
     "elapsed": 31,
     "status": "ok",
     "timestamp": 1675190400459,
     "user": {
      "displayName": "Myles Harrison",
      "userId": "02225822412878142066"
     },
     "user_tz": 300
    },
    "id": "29302223-fa07-4afa-a277-628e4848e897",
    "outputId": "2e3db804-45e0-4e1c-c2b0-fd0c8eae506a"
   },
   "outputs": [
    {
     "data": {
      "application/vnd.google.colaboratory.intrinsic+json": {
       "type": "string"
      },
      "text/plain": [
       "'あ'"
      ]
     },
     "execution_count": 34,
     "metadata": {},
     "output_type": "execute_result"
    }
   ],
   "source": [
    "report_df_joined.loc['0', 'char']"
   ]
  },
  {
   "cell_type": "code",
   "execution_count": 35,
   "id": "d7a0107e-505d-4c01-9545-411bcc484087",
   "metadata": {
    "colab": {
     "base_uri": "https://localhost:8080/"
    },
    "executionInfo": {
     "elapsed": 31,
     "status": "ok",
     "timestamp": 1675190400460,
     "user": {
      "displayName": "Myles Harrison",
      "userId": "02225822412878142066"
     },
     "user_tz": 300
    },
    "id": "d7a0107e-505d-4c01-9545-411bcc484087",
    "outputId": "25c647ca-9a38-4724-f228-db9bb2af9a1f"
   },
   "outputs": [
    {
     "data": {
      "text/plain": [
       "Index(['0', '1', '2', '3', '4', '5', '6', '7', '8', '9', '10', '11', '12',\n",
       "       '13', '14', '15', '16', '17', '18', '19', '20', '21', '22', '23', '24',\n",
       "       '25', '26', '27', '28', '29', '30', '31', '32', '33', '34', '35', '36',\n",
       "       '37', '38', '39', '40', '41', '42', '43', '44', '45', '46', '47', '48',\n",
       "       'accuracy', 'macro avg', 'weighted avg'],\n",
       "      dtype='object')"
      ]
     },
     "execution_count": 35,
     "metadata": {},
     "output_type": "execute_result"
    }
   ],
   "source": [
    "report_df_joined.index"
   ]
  },
  {
   "cell_type": "code",
   "execution_count": 36,
   "id": "Frr1Y9pHlv3G",
   "metadata": {
    "colab": {
     "base_uri": "https://localhost:8080/"
    },
    "executionInfo": {
     "elapsed": 344,
     "status": "ok",
     "timestamp": 1675190400777,
     "user": {
      "displayName": "Myles Harrison",
      "userId": "02225822412878142066"
     },
     "user_tz": 300
    },
    "id": "Frr1Y9pHlv3G",
    "outputId": "4bd3d633-32be-4811-c924-590cfb276b15"
   },
   "outputs": [
    {
     "name": "stdout",
     "output_type": "stream",
     "text": [
      "cmb10.ttf\t\t\tDejaVuSerif.ttf\n",
      "cmex10.ttf\t\t\tLICENSE_DEJAVU\n",
      "cmmi10.ttf\t\t\tLICENSE_STIX\n",
      "cmr10.ttf\t\t\tSTIXGeneralBolIta.ttf\n",
      "cmss10.ttf\t\t\tSTIXGeneralBol.ttf\n",
      "cmsy10.ttf\t\t\tSTIXGeneralItalic.ttf\n",
      "cmtt10.ttf\t\t\tSTIXGeneral.ttf\n",
      "DejaVuSans-BoldOblique.ttf\tSTIXNonUniBolIta.ttf\n",
      "DejaVuSans-Bold.ttf\t\tSTIXNonUniBol.ttf\n",
      "DejaVuSansDisplay.ttf\t\tSTIXNonUniIta.ttf\n",
      "DejaVuSansMono-BoldOblique.ttf\tSTIXNonUni.ttf\n",
      "DejaVuSansMono-Bold.ttf\t\tSTIXSizFiveSymReg.ttf\n",
      "DejaVuSansMono-Oblique.ttf\tSTIXSizFourSymBol.ttf\n",
      "DejaVuSansMono.ttf\t\tSTIXSizFourSymReg.ttf\n",
      "DejaVuSans-Oblique.ttf\t\tSTIXSizOneSymBol.ttf\n",
      "DejaVuSans.ttf\t\t\tSTIXSizOneSymReg.ttf\n",
      "DejaVuSerif-BoldItalic.ttf\tSTIXSizThreeSymBol.ttf\n",
      "DejaVuSerif-Bold.ttf\t\tSTIXSizThreeSymReg.ttf\n",
      "DejaVuSerifDisplay.ttf\t\tSTIXSizTwoSymBol.ttf\n",
      "DejaVuSerif-Italic.ttf\t\tSTIXSizTwoSymReg.ttf\n"
     ]
    }
   ],
   "source": [
    "!ls /usr/local/lib/python3.8/dist-packages/matplotlib/mpl-data/fonts/ttf"
   ]
  },
  {
   "cell_type": "code",
   "execution_count": 37,
   "id": "IvE3Qb4SmGmd",
   "metadata": {
    "colab": {
     "base_uri": "https://localhost:8080/"
    },
    "executionInfo": {
     "elapsed": 998,
     "status": "ok",
     "timestamp": 1675190401768,
     "user": {
      "displayName": "Myles Harrison",
      "userId": "02225822412878142066"
     },
     "user_tz": 300
    },
    "id": "IvE3Qb4SmGmd",
    "outputId": "ecafff12-b5ca-4c2c-f7d8-fa6300aa22c8"
   },
   "outputs": [
    {
     "name": "stdout",
     "output_type": "stream",
     "text": [
      "--2023-01-31 18:39:53--  https://fonts.google.com/download?family=Noto%20Sans%20Javanese\n",
      "Resolving fonts.google.com (fonts.google.com)... 142.250.4.102, 142.250.4.113, 142.250.4.100, ...\n",
      "Connecting to fonts.google.com (fonts.google.com)|142.250.4.102|:443... connected.\n",
      "HTTP request sent, awaiting response... 200 OK\n",
      "Length: unspecified [application/zip]\n",
      "Saving to: ‘NotoSans.zip’\n",
      "\n",
      "NotoSans.zip            [ <=>                ] 373.68K  2.36MB/s    in 0.2s    \n",
      "\n",
      "2023-01-31 18:39:54 (2.36 MB/s) - ‘NotoSans.zip’ saved [382644]\n",
      "\n"
     ]
    }
   ],
   "source": [
    "!wget https://fonts.google.com/download?family=Noto%20Sans%20Javanese -O NotoSans.zip"
   ]
  },
  {
   "cell_type": "code",
   "execution_count": 43,
   "id": "70fe169b-90c9-40a4-8dff-94d4a0e50e41",
   "metadata": {
    "colab": {
     "base_uri": "https://localhost:8080/",
     "height": 281
    },
    "executionInfo": {
     "elapsed": 2084,
     "status": "ok",
     "timestamp": 1675190637120,
     "user": {
      "displayName": "Myles Harrison",
      "userId": "02225822412878142066"
     },
     "user_tz": 300
    },
    "id": "70fe169b-90c9-40a4-8dff-94d4a0e50e41",
    "outputId": "3f25be5a-94ef-48fc-cb9e-37d2e8be5934"
   },
   "outputs": [
    {
     "data": {
      "image/png": "[encoded data removed]",
      "text/plain": [
       "<Figure size 432x288 with 1 Axes>"
      ]
     },
     "metadata": {
      "needs_background": "light"
     },
     "output_type": "display_data"
    }
   ],
   "source": [
    "#matplotlib.rcParams['font.sans-serif'] = ['Noto Sans Japanese', 'sans-serif']\n",
    "\n",
    "plt.scatter(report_df_joined['precision'], report_df_joined['recall'], s=20)\n",
    "\n",
    "for i in np.arange(49).astype(str):\n",
    "    \n",
    "    plt.annotate(report_df_joined.loc[i,'char'], (report_df_joined.loc[i, 'precision']*1.01, report_df_joined.loc[i, 'recall']*1.01),\n",
    "                fontsize=12, fontproperties=fontprop)\n",
    "    \n",
    "    plt.title(\"あ\", fontproperties=fontprop)\n",
    "\n",
    "\n",
    "plt.show()"
   ]
  }
 ],
 "metadata": {
  "accelerator": "GPU",
  "colab": {
   "provenance": []
  },
  "gpuClass": "standard",
  "kernelspec": {
   "display_name": "Python 3 (ipykernel)",
   "language": "python",
   "name": "python3"
  },
  "language_info": {
   "codemirror_mode": {
    "name": "ipython",
    "version": 3
   },
   "file_extension": ".py",
   "mimetype": "text/x-python",
   "name": "python",
   "nbconvert_exporter": "python",
   "pygments_lexer": "ipython3",
   "version": "3.11.1"
  }
 },
 "nbformat": 4,
 "nbformat_minor": 5
}
