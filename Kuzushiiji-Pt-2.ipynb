{
 "cells": [
  {
   "cell_type": "markdown",
   "id": "89a1fc67-30eb-45d2-89da-32a6d950898b",
   "metadata": {
    "id": "89a1fc67-30eb-45d2-89da-32a6d950898b"
   },
   "source": [
    "# Kuzushiji-49: An Introduction to CNNs"
   ]
  },
  {
   "cell_type": "markdown",
   "id": "e6d26f1a-dd28-4b62-81f1-84c67ac26780",
   "metadata": {
    "id": "e6d26f1a-dd28-4b62-81f1-84c67ac26780"
   },
   "source": [
    "## Part 2: Image Classification with CNNs in Keras"
   ]
  },
  {
   "cell_type": "markdown",
   "id": "26586eaa-ca81-43c4-b2b4-72b3b04331df",
   "metadata": {
    "id": "26586eaa-ca81-43c4-b2b4-72b3b04331df"
   },
   "source": [
    "### Introduction\n",
    "\n",
    "Now that we have explored the data and verified some assumptions, we will proceed in Part 2 to apply deep learning models for the purposes of image classification.\n",
    "\n",
    "In this notebook we will be using [Keras](https://keras.io/getting_started/), which has been integrated into the [Tensorflow](https://www.tensorflow.org/) deep learning framework proper since Version 2.0. \n",
    "\n",
    "Because we will doing deep learning which is computationally expensive, we will also be leveraging the free GPU computing available from [Google Colab](https://colab.research.google.com/). This will require some additional code to move the data from local into the cloud (Google Drive) and also some additional code for rendering the hiragana in plots which differs from on my local machine. We will address these points as they arise in the workflow.\n",
    "\n",
    "Before diving into the code and training the models, I will also take some time to briefly introduce and discuss the fundamentals of deep learning for computer vision at a high level.\n",
    "\n",
    "As always, first we will load the regular core libraries of the data science stack:"
   ]
  },
  {
   "cell_type": "code",
   "execution_count": 1,
   "id": "a1c407b9-3e91-404a-bb37-af4265400189",
   "metadata": {
    "executionInfo": {
     "elapsed": 360,
     "status": "ok",
     "timestamp": 1675779711676,
     "user": {
      "displayName": "Myles Harrison",
      "userId": "02225822412878142066"
     },
     "user_tz": 300
    },
    "id": "a1c407b9-3e91-404a-bb37-af4265400189"
   },
   "outputs": [],
   "source": [
    "# holy trinity\n",
    "import numpy as np\n",
    "import pandas as pd\n",
    "import matplotlib.pyplot as plt"
   ]
  },
  {
   "cell_type": "markdown",
   "id": "Cio2Cs6dMGoj",
   "metadata": {
    "id": "Cio2Cs6dMGoj"
   },
   "source": [
    "### Loading the Data\n",
    "As mentioned above, the data needed to be moved into the cloud in order to be read in Colab. Since the number of files and their sizes are relatively small, I simply uploaded these through the browser.\n",
    "\n"
   ]
  },
  {
   "cell_type": "markdown",
   "id": "p7J5aF_gTk2D",
   "metadata": {
    "id": "p7J5aF_gTk2D"
   },
   "source": [
    "After this, we can mount Google Drive as a folder on the virtual machine backing the Colab notebook:"
   ]
  },
  {
   "cell_type": "code",
   "execution_count": 2,
   "id": "LEpqh3cNgq3T",
   "metadata": {
    "colab": {
     "base_uri": "https://localhost:8080/"
    },
    "executionInfo": {
     "elapsed": 75521,
     "status": "ok",
     "timestamp": 1675779787192,
     "user": {
      "displayName": "Myles Harrison",
      "userId": "02225822412878142066"
     },
     "user_tz": 300
    },
    "id": "LEpqh3cNgq3T",
    "outputId": "0bddc1d5-3f8c-444e-d1bb-4c579c26277f"
   },
   "outputs": [
    {
     "name": "stdout",
     "output_type": "stream",
     "text": [
      "Mounted at /content/drive/\n"
     ]
    }
   ],
   "source": [
    "from google.colab import drive\n",
    "drive.mount('/content/drive/')"
   ]
  },
  {
   "cell_type": "markdown",
   "id": "aavaapOlOG0z",
   "metadata": {
    "id": "aavaapOlOG0z"
   },
   "source": [
    "The files in Google Drive are now available in the filesystem of the virtual machine backing the Colab notebook at `/content/drive`. Let's just quickly check that all the data files are there by running a bash command using `!`:"
   ]
  },
  {
   "cell_type": "code",
   "execution_count": 3,
   "id": "cQS2FFEbg7Zl",
   "metadata": {
    "colab": {
     "base_uri": "https://localhost:8080/"
    },
    "executionInfo": {
     "elapsed": 2551,
     "status": "ok",
     "timestamp": 1675779789734,
     "user": {
      "displayName": "Myles Harrison",
      "userId": "02225822412878142066"
     },
     "user_tz": 300
    },
    "id": "cQS2FFEbg7Zl",
    "outputId": "5c4b9323-e6a4-416b-eb2b-e534c9483bef"
   },
   "outputs": [
    {
     "name": "stdout",
     "output_type": "stream",
     "text": [
      "k49_classmap.csv   k49-test-labels.npz\tk49-train-labels.npz\n",
      "k49-test-imgs.npz  k49-train-imgs.npz\n"
     ]
    }
   ],
   "source": [
    "!ls drive/MyDrive/kuzushiji/data/"
   ]
  },
  {
   "cell_type": "markdown",
   "id": "RHmAtBrpOcim",
   "metadata": {
    "id": "RHmAtBrpOcim"
   },
   "source": [
    "Great, the files are there, so we can go ahead and load them all together in one cell:"
   ]
  },
  {
   "cell_type": "code",
   "execution_count": 4,
   "id": "9c512e6e-6c1d-4211-8789-a94f8a37a377",
   "metadata": {
    "executionInfo": {
     "elapsed": 8963,
     "status": "ok",
     "timestamp": 1675779798690,
     "user": {
      "displayName": "Myles Harrison",
      "userId": "02225822412878142066"
     },
     "user_tz": 300
    },
    "id": "9c512e6e-6c1d-4211-8789-a94f8a37a377"
   },
   "outputs": [],
   "source": [
    "# Reload the data\n",
    "\n",
    "# Train\n",
    "X_train = np.load('drive/MyDrive/kuzushiji/data/k49-train-imgs.npz')['arr_0']\n",
    "y_train = np.load('drive/MyDrive/kuzushiji/data/k49-train-labels.npz')['arr_0']\n",
    "\n",
    "# Test\n",
    "X_test = np.load('drive/MyDrive/kuzushiji/data/k49-test-imgs.npz')['arr_0']\n",
    "y_test = np.load('drive/MyDrive/kuzushiji/data/k49-test-labels.npz')['arr_0']\n",
    "\n",
    "# Classmap\n",
    "classmap = pd.read_csv('drive/MyDrive/kuzushiji/data/k49_classmap.csv')"
   ]
  },
  {
   "cell_type": "markdown",
   "id": "4pSTdT2sT3wK",
   "metadata": {
    "id": "4pSTdT2sT3wK"
   },
   "source": [
    "### Adding a font for Japanese characters in Colab\n",
    "\n",
    "Unfortunately, simply using the code which worked locally for displaying the hiragana will not work here, and this requires a little more doing. I followed the excellent guide here: [Using external fonts in Google Colaboratory](https://buomsoo-kim.github.io/colab/2018/04/27/Using-External-fonts-in-colab.md/). This follows a very similar procedure to the references pointed to in Part 1, through creating a `FontProperties` object in matplotlib, and then passing it to plotting / annotation / axis labeling / etc. calls where required.\n",
    "\n",
    "For rendering Japanese characters, we'll be using [Noto Sans Japanese](https://fonts.google.com/noto/specimen/Noto+Sans+JP) from Google Fonts."
   ]
  },
  {
   "cell_type": "code",
   "execution_count": 5,
   "id": "w1362ylPOw2i",
   "metadata": {
    "colab": {
     "base_uri": "https://localhost:8080/",
     "height": 617
    },
    "executionInfo": {
     "elapsed": 3815,
     "status": "ok",
     "timestamp": 1675779802486,
     "user": {
      "displayName": "Myles Harrison",
      "userId": "02225822412878142066"
     },
     "user_tz": 300
    },
    "id": "w1362ylPOw2i",
    "outputId": "0ef15655-e92d-4e41-c77e-5ca20f2af4a3"
   },
   "outputs": [
    {
     "name": "stdout",
     "output_type": "stream",
     "text": [
      "--2023-02-07 14:23:18--  https://fonts.google.com/download?family=Noto%20Sans%20JP\n",
      "Resolving fonts.google.com (fonts.google.com)... 172.217.194.113, 172.217.194.101, 172.217.194.139, ...\n",
      "Connecting to fonts.google.com (fonts.google.com)|172.217.194.113|:443... connected.\n",
      "HTTP request sent, awaiting response... 200 OK\n",
      "Length: unspecified [application/zip]\n",
      "Saving to: ‘Noto_Sans_JP.zip’\n",
      "\n",
      "Noto_Sans_JP.zip        [   <=>              ]  22.35M  46.0MB/s    in 0.5s    \n",
      "\n",
      "2023-02-07 14:23:20 (46.0 MB/s) - ‘Noto_Sans_JP.zip’ saved [23439995]\n",
      "\n",
      "Archive:  Noto_Sans_JP.zip\n",
      "  inflating: OFL.txt                 \n",
      "  inflating: NotoSansJP-Thin.otf     \n",
      "  inflating: NotoSansJP-Light.otf    \n",
      "  inflating: NotoSansJP-Regular.otf  \n",
      "  inflating: NotoSansJP-Medium.otf   \n",
      "  inflating: NotoSansJP-Bold.otf     \n",
      "  inflating: NotoSansJP-Black.otf    \n"
     ]
    },
    {
     "data": {
      "image/png": "[encoded data removed]",
      "text/plain": [
       "<Figure size 432x288 with 1 Axes>"
      ]
     },
     "metadata": {
      "needs_background": "light"
     },
     "output_type": "display_data"
    }
   ],
   "source": [
    "# Download the fonts and move to the user font directory\n",
    "!yes | wget https://fonts.google.com/download?family=Noto%20Sans%20JP -O Noto_Sans_JP.zip\n",
    "!unzip Noto_Sans_JP.zip\n",
    "!mv *.otf /usr/share/fonts/truetype/\n",
    "\n",
    "# Verify below with a sample plot\n",
    "import matplotlib as mpl\n",
    "import matplotlib.pyplot as plt\n",
    "import matplotlib.font_manager as fm\n",
    "\n",
    "# Create FontProperties object using the file\n",
    "path = '/usr/share/fonts/truetype/NotoSansJP-Regular.otf'\n",
    "fontprop = fm.FontProperties(fname=path)\n",
    "\n",
    "# Test\n",
    "plt.plot(range(50), range(50), 'r')\n",
    "plt.title('あいうえおかきくけこ', fontproperties=fontprop, fontsize=20)\n",
    "plt.annotate('あ', (20, 30), fontproperties=fontprop, fontsize=20)\n",
    "plt.show()"
   ]
  },
  {
   "cell_type": "markdown",
   "id": "7c59fa8f-09a7-4330-af8c-23835e6e69a7",
   "metadata": {
    "id": "7c59fa8f-09a7-4330-af8c-23835e6e69a7"
   },
   "source": [
    "### Fundamentals of Deep Learning\n",
    "\n",
    "Before we start building our deep learning model - a [Convolution Neural Network](https://en.wikipedia.org/wiki/Convolutional_neural_network), or CNN - I will introduce some of the fundamental concepts of machine learning and building blocks of how neural networks work.\n",
    "\n",
    "First we must talk about what the goals of building a predictive model in supervised learning are: to make a prediction about the target (whether that be a class label or a continuous value) and minimize the error (or, in a deep learning practitioner's parlance, the *loss*) in doing so.\n",
    "\n",
    "In the case of simple linear models, this translates to an optimization problem where the goal is to find the *model parameters* or *coefficients* which minimize the loss - this is what the \"learning\" in machine learning is - the model is learning the parameters which will minimize the error of its predictions over the whole of the training data.\n",
    "\n",
    "For a simple linear model for classification, were the goal is to predict the probability of the class label between 0 and 1, this takes the form of a [Logistic Regression](https://en.wikipedia.org/wiki/Logistic_regression) - a special function called the *sigmoid functions* is applied to a linear combination of our $x$ variables and also includes an intercept, $\\beta_0$ and coefficients which must be learned, in the vector $\\beta$:\n",
    "\n",
    "$\\hat{y} = f(x) = \\frac{1}{1 + \\exp{-(\\beta_0 + \\beta X})}$\n",
    "\n",
    "The end result for each observation of the values for the input variables (all the $x_i$ which make up $X$) is a value between 0 and 1, output as our $\\hat{y}$. This is then typically rounded up from a probability cutoff (threshold) to make what is known as a hard prediction, that of the class label; so for observations where $\\hat{y} \\lt 0.5$ the model would predict the observation to be of class 0, and for $\\hat{y} \\geq 0.5$ it would predict class 1.\n",
    "\n",
    "In deep learning, many models are combined together in different *layers* and the outputs of previous layers are used as inputs from the next layer. Each model which makes up the different layers in the network is referred to as a *node*.\n",
    "\n",
    "The first layer in the model, called  the *input* layer, is just a layer to take in the data. The final layer in the model, called the *output* layer, is the end result of all of the calculations from across the layers in-between - referred to as the *hidden layers* - into our final prediction, $\\hat{y}$.\n",
    "\n",
    "![diagram of neural network](img/ann_diagram.png)\n",
    "\n",
    "Now, instead of learning the same number of coefficients for the model as input features $x_i$, each node will have its own set of coefficients (or in deep learning speak, *weights*) based upon the outputs of the previous layer.\n",
    "\n",
    "The number of hidden layers used and the number of weights present in each - collectively, making up what is referred to as the *model architecture* - is up to the modeller.\n",
    "\n",
    "Given this, the number of coefficients in a deep learning model tends to grow very large; it is not unusual for neural networks to have millions of weights. This is from where much of the predictive power of artifical neural network arises. It also comes at a price, as finding the optimal values for such a large number of weights to minimize the error - or *loss* - now becomes a very computationally challenging problem.   \n",
    "\n",
    "In the Logistic Regression model as described above, a special sigmoid function is applied to the linear combination of inputs and coefficients. Furthermore adding to the computational complexity, in a deep learning model each layer can have a different function - referred to as the *activation function* - applied to the outputs of each node, which is also a combination of the inputs from the previous layer multiplied by the weights plus a bias term (intercept). It is from the application of these activation functions where the highly non-linear nature of neural networks arises, and this is also what gives them such predictive power, in addition to the very large number of weights as noted above.\n",
    "\n",
    "In practice, there are fairly well established model architectures and families of activation functions which through research have been found to perform well for different types of machine learning problems.\n",
    "\n",
    "In what follows, we will apply a basic convolution neural network architecture like below:\n",
    "\n"
   ]
  },
  {
   "cell_type": "markdown",
   "id": "e1c60528-cc01-4ab3-923d-d5498fc367b1",
   "metadata": {
    "id": "e1c60528-cc01-4ab3-923d-d5498fc367b1"
   },
   "source": [
    "![diagram of neural network](img/cnn.jpeg)\n",
    "\n",
    "*Image source: https://towardsdatascience.com/a-comprehensive-guide-to-convolutional-neural-networks-the-eli5-way-3bd2b1164a53*"
   ]
  },
  {
   "cell_type": "markdown",
   "id": "ddfd8c3f-87f2-4490-a616-c3de1707dcce",
   "metadata": {
    "id": "ddfd8c3f-87f2-4490-a616-c3de1707dcce"
   },
   "source": [
    "In the case for using image data, our input features to the network are simply the pixel values, which in black and white on a computer are represented as integers from 0-255. We can see on the right hand side, the *fully-connected* part of the network which is the same as what was discussed above.\n",
    "\n",
    "Additionally, in a CNN architecture, there are special types of layers specifically designed to be applied to image data which is two (for black & white images) or three (for colour images) dimensional. These two types of layers are *convolutional* layers, which give the network its name, and *max pooling* layers.\n",
    "\n",
    "The convolution layer works by sliding a *kernel* - which you can think of as a type of filter - over the image and multiplying each value (weight) in the kernel by the images in the pixel. Depending on the size of the kernel and the values, the result will have a different (usually smaller) dimensions than the original image. You can read [more on this here](https://towardsdatascience.com/types-of-convolution-kernels-simplified-f040cb307c37). This is nicely visualized in the figure below by [Vincent Dumoulin from Google Brain](https://github.com/vdumoulin/conv_arithmetic) below - the blue are the input pixels, and the cyan the output after applying a convolution:  \n",
    "![convolutional neural network animated gif](img/no_padding_no_strides.gif)"
   ]
  },
  {
   "cell_type": "markdown",
   "id": "19e0fdb2-f60f-4a5c-8034-62bc945f848f",
   "metadata": {
    "id": "19e0fdb2-f60f-4a5c-8034-62bc945f848f"
   },
   "source": [
    "What are the values in the kernel? They are learned as part of the training of the network to minimize the loss, just as the weights in other layers are.\n",
    "\n",
    "The other type of layer specifically for image data that functions similarly is a *max pooling* layer, which is also \"slid\" over the image's pixel values. Here, unlike a convolutional layer, a kernel is not used but the max value in the window is taken. This is visualized in the animation below, with 2x2 max pooling applied to a 4x4 input. As such, applying max pooling results in an output smaller than the input. "
   ]
  },
  {
   "cell_type": "markdown",
   "id": "ef0051f8-423c-4588-8898-28f7a1f6a049",
   "metadata": {
    "id": "ef0051f8-423c-4588-8898-28f7a1f6a049"
   },
   "source": [
    "![an animated visualization of max pooling](img/maxpool.gif)\n",
    "\n",
    "*Image source: https://nico-curti.github.io/NumPyNet/NumPyNet/layers/maxpool_layer.html*"
   ]
  },
  {
   "cell_type": "markdown",
   "id": "f60a2bac-877e-47cd-89cf-7544ab4ab706",
   "metadata": {
    "id": "f60a2bac-877e-47cd-89cf-7544ab4ab706"
   },
   "source": [
    "Now that we have covered some of the fundamentals, we can proceed to applying these in code in Tensorflow and training a model for the hiragana."
   ]
  },
  {
   "cell_type": "markdown",
   "id": "3d9e24bd-7049-4bac-bfbf-f5890b50c461",
   "metadata": {
    "id": "3d9e24bd-7049-4bac-bfbf-f5890b50c461"
   },
   "source": [
    "### Modeling"
   ]
  },
  {
   "cell_type": "markdown",
   "id": "ff0ecf3b-2468-4ef4-b6fb-509e8d727939",
   "metadata": {
    "id": "ff0ecf3b-2468-4ef4-b6fb-509e8d727939"
   },
   "source": [
    "First we will import the `Sequential` model type and the different layer types we'll need for our model:"
   ]
  },
  {
   "cell_type": "code",
   "execution_count": 6,
   "id": "e0ba4839-7256-4456-833c-d60601a3fef7",
   "metadata": {
    "executionInfo": {
     "elapsed": 1772,
     "status": "ok",
     "timestamp": 1675779804251,
     "user": {
      "displayName": "Myles Harrison",
      "userId": "02225822412878142066"
     },
     "user_tz": 300
    },
    "id": "e0ba4839-7256-4456-833c-d60601a3fef7"
   },
   "outputs": [],
   "source": [
    "from tensorflow.keras import Sequential\n",
    "from tensorflow.keras.layers import Input, Dense, Conv2D, MaxPooling2D, Flatten, Dropout"
   ]
  },
  {
   "cell_type": "markdown",
   "id": "cffcddc2-2b0c-4615-ab73-1e6c70ff901c",
   "metadata": {
    "id": "cffcddc2-2b0c-4615-ab73-1e6c70ff901c"
   },
   "source": [
    "## Building a Neural Network\n",
    "\n",
    "When working with any type of machine learning, there are generally three steps to the workflow:\n",
    "\n",
    "1. Create the model\n",
    "2. Train the model\n",
    "3. Evaluate the model\n",
    "\n",
    "For deep learning, in Step #1, this is where are generally concerned with the structure of the network we want to craft (the model architecture).\n",
    "\n",
    "To get started, we are going to build a very simple CNN - in fact one I would call a 'toy' model. This is very similar to what appears in the [Tensorflow CNN tutorial](https://www.tensorflow.org/tutorials/images/cnn), and is simple composed of 2 convolutional layer with max pooling layers in between, and one dense / fully-connected layer after flattening."
   ]
  },
  {
   "cell_type": "markdown",
   "id": "fa956447-a26a-475d-a6e3-21f854fd86ca",
   "metadata": {},
   "source": [
    "### 1. Create the Model\n",
    "\n",
    "First, we need to check the input of our data:"
   ]
  },
  {
   "cell_type": "code",
   "execution_count": 7,
   "id": "c173b2a6-a08c-4a5d-8596-1a3a832202f0",
   "metadata": {
    "colab": {
     "base_uri": "https://localhost:8080/"
    },
    "executionInfo": {
     "elapsed": 15,
     "status": "ok",
     "timestamp": 1675779804253,
     "user": {
      "displayName": "Myles Harrison",
      "userId": "02225822412878142066"
     },
     "user_tz": 300
    },
    "id": "c173b2a6-a08c-4a5d-8596-1a3a832202f0",
    "outputId": "1c6c1abe-3b5e-466d-e536-b87bdf49eb81"
   },
   "outputs": [
    {
     "name": "stdout",
     "output_type": "stream",
     "text": [
      "(232365, 28, 28)\n"
     ]
    }
   ],
   "source": [
    "input_shape = X_train.shape\n",
    "print(input_shape)"
   ]
  },
  {
   "cell_type": "markdown",
   "id": "fba92af5-8206-4313-af3c-32a24c672981",
   "metadata": {},
   "source": [
    "Great, next we will create the model object. In Tensorflow the vast majority of deep learning models (including CNNs) which flow from left to right are in the `Sequential` class: "
   ]
  },
  {
   "cell_type": "code",
   "execution_count": 9,
   "id": "9653cbad-b2bd-4f60-9c55-81b121ac14e8",
   "metadata": {
    "executionInfo": {
     "elapsed": 36,
     "status": "ok",
     "timestamp": 1675779806787,
     "user": {
      "displayName": "Myles Harrison",
      "userId": "02225822412878142066"
     },
     "user_tz": 300
    },
    "id": "b4ebc586-3907-47c9-959a-7f116f0fc121"
   },
   "outputs": [],
   "source": [
    "ks_model = Sequential()"
   ]
  },
  {
   "cell_type": "markdown",
   "id": "c65bb280-bc3e-4e56-a610-d13e970f1dbc",
   "metadata": {},
   "source": [
    "Now we can set up the model architecture. We do this using the [Conv2D](https://www.tensorflow.org/api_docs/python/tf/keras/layers/Conv2D), [MaxPooling2D](https://www.tensorflow.org/api_docs/python/tf/keras/layers/MaxPool2D), [Flatten](https://www.tensorflow.org/api_docs/python/tf/keras/layers/Flatten), and [Dense](https://www.tensorflow.org/api_docs/python/tf/keras/layers/Dense) layer types from Tensorflow. For our network, we will just be using regular [ReLU](https://en.wikipedia.org/wiki/Rectifier_(neural_networks)) as our activation function."
   ]
  },
  {
   "cell_type": "code",
   "execution_count": 9,
   "id": "9f937269-57d1-46b3-ab71-e31e4d97d4eb",
   "metadata": {
    "executionInfo": {
     "elapsed": 36,
     "status": "ok",
     "timestamp": 1675779806787,
     "user": {
      "displayName": "Myles Harrison",
      "userId": "02225822412878142066"
     },
     "user_tz": 300
    },
    "id": "b4ebc586-3907-47c9-959a-7f116f0fc121"
   },
   "outputs": [],
   "source": [
    "ks_model.add(Input(shape=(28, 28, 1)))\n",
    "ks_model.add(Conv2D(32, kernel_size=(3, 3), activation=\"relu\"))\n",
    "ks_model.add(MaxPooling2D(pool_size=(2, 2)))\n",
    "ks_model.add(Conv2D(64, kernel_size=(3, 3), activation=\"relu\"))\n",
    "ks_model.add(MaxPooling2D(pool_size=(2, 2)))\n",
    "ks_model.add(Flatten())\n",
    "ks_model.add(Dense(49, activation=\"softmax\"))"
   ]
  },
  {
   "cell_type": "markdown",
   "id": "eb403228-91fa-4512-83b5-dd847d3b8134",
   "metadata": {},
   "source": [
    "Finally, we need to compile our model, which necessitates attaching a *loss* - a measure of how wrong we are / the error metric for the model; an *optimizer* - which, for the purposes of our discussion, is a numerical solver used to train the model; and *metrics* - to measure our model's performance. Here since we are doing a classification problem, we'll be using categorical cross-entropy and accuracy as our metric. The `adam` optimizer is fairly standard and performs well:"
   ]
  },
  {
   "cell_type": "code",
   "execution_count": 10,
   "id": "e9ac582c-9a3f-4ff4-b9de-7ffd9ae77420",
   "metadata": {
    "executionInfo": {
     "elapsed": 36,
     "status": "ok",
     "timestamp": 1675779806788,
     "user": {
      "displayName": "Myles Harrison",
      "userId": "02225822412878142066"
     },
     "user_tz": 300
    },
    "id": "e9ac582c-9a3f-4ff4-b9de-7ffd9ae77420"
   },
   "outputs": [],
   "source": [
    "ks_model.compile(loss=\"sparse_categorical_crossentropy\", optimizer=\"adam\", metrics=[\"accuracy\"])"
   ]
  },
  {
   "cell_type": "markdown",
   "id": "90b01f53-5c04-40b6-b65e-3465cdf6f7d3",
   "metadata": {},
   "source": [
    "Now that we've compiled the model, we can have Tensorflow summarize the model architecture for us, which includes a high-level overview of the model, as well as some calculations on the number of model parameters (weights):"
   ]
  },
  {
   "cell_type": "code",
   "execution_count": 11,
   "id": "5084a25e-fb08-4bea-bf32-23a500716a2b",
   "metadata": {
    "colab": {
     "base_uri": "https://localhost:8080/"
    },
    "executionInfo": {
     "elapsed": 35,
     "status": "ok",
     "timestamp": 1675779806788,
     "user": {
      "displayName": "Myles Harrison",
      "userId": "02225822412878142066"
     },
     "user_tz": 300
    },
    "id": "5084a25e-fb08-4bea-bf32-23a500716a2b",
    "outputId": "25ff5bd5-c13b-4a40-9f1a-fe6d2e63cf20"
   },
   "outputs": [
    {
     "name": "stdout",
     "output_type": "stream",
     "text": [
      "Model: \"sequential\"\n",
      "_________________________________________________________________\n",
      " Layer (type)                Output Shape              Param #   \n",
      "=================================================================\n",
      " conv2d (Conv2D)             (None, 26, 26, 32)        320       \n",
      "                                                                 \n",
      " max_pooling2d (MaxPooling2D  (None, 13, 13, 32)       0         \n",
      " )                                                               \n",
      "                                                                 \n",
      " conv2d_1 (Conv2D)           (None, 11, 11, 64)        18496     \n",
      "                                                                 \n",
      " max_pooling2d_1 (MaxPooling  (None, 5, 5, 64)         0         \n",
      " 2D)                                                             \n",
      "                                                                 \n",
      " flatten (Flatten)           (None, 1600)              0         \n",
      "                                                                 \n",
      " dense (Dense)               (None, 49)                78449     \n",
      "                                                                 \n",
      "=================================================================\n",
      "Total params: 97,265\n",
      "Trainable params: 97,265\n",
      "Non-trainable params: 0\n",
      "_________________________________________________________________\n"
     ]
    }
   ],
   "source": [
    "ks_model.summary()"
   ]
  },
  {
   "cell_type": "markdown",
   "id": "d60bdbdb-eee5-4777-9602-4c7a1982d105",
   "metadata": {},
   "source": [
    "We can see here for our model, there 97,265 model parameters to be learned! Again, deep learning models can get quite large, and it is common for them to have millions of parameters."
   ]
  },
  {
   "cell_type": "markdown",
   "id": "cab0054e-df70-44b0-828c-9730876cd5c6",
   "metadata": {},
   "source": [
    "### 2. Train the Model\n",
    "\n",
    "Now that are model is initialized, we are ready to train the model. In Keras / Tensorflow, this is a simple as calling `model.fit()`!\n",
    "\n",
    "Deep learning models are trained in *epochs*, where small *batches* of data are fed to the model at a time. Over each epoch, the weights are updated to reduce the loss (error). In each epoch, the model will have seen every observation in the training set. \n",
    "\n",
    "The results of the model training - including the performance for each epoch, which is what we are interested in - are saved in a `history` object. We also specify the `validation_split` parameter, which is the percentage of data set aside from the training set to evaluate our model performance against in each epoch (*i.e.* the model is not being fit with this data, only evaluated against it).\n",
    "\n",
    "Here we will train our model for 10 epochs with a validation set of 30%:"
   ]
  },
  {
   "cell_type": "code",
   "execution_count": 12,
   "id": "06dc57a1-a5b1-410b-b324-3246a84e7911",
   "metadata": {
    "colab": {
     "base_uri": "https://localhost:8080/"
    },
    "id": "fb27983d-9ba3-418b-b416-286b470243c4",
    "outputId": "72e8cfef-f11c-43d2-d8fd-a05f6ead19b6"
   },
   "outputs": [
    {
     "name": "stdout",
     "output_type": "stream",
     "text": [
      "Epoch 1/10\n",
      "5083/5083 [==============================] - 32s 5ms/step - loss: 0.7519 - accuracy: 0.8167 - val_loss: 0.4125 - val_accuracy: 0.8888\n",
      "Epoch 2/10\n",
      "5083/5083 [==============================] - 24s 5ms/step - loss: 0.3566 - accuracy: 0.9008 - val_loss: 0.3568 - val_accuracy: 0.9039\n",
      "Epoch 3/10\n",
      "5083/5083 [==============================] - 24s 5ms/step - loss: 0.2813 - accuracy: 0.9206 - val_loss: 0.3070 - val_accuracy: 0.9179\n",
      "Epoch 4/10\n",
      "5083/5083 [==============================] - 25s 5ms/step - loss: 0.2399 - accuracy: 0.9315 - val_loss: 0.3025 - val_accuracy: 0.9196\n",
      "Epoch 5/10\n",
      "5083/5083 [==============================] - 28s 6ms/step - loss: 0.2149 - accuracy: 0.9377 - val_loss: 0.2974 - val_accuracy: 0.9188\n",
      "Epoch 6/10\n",
      "5083/5083 [==============================] - 24s 5ms/step - loss: 0.1934 - accuracy: 0.9438 - val_loss: 0.2924 - val_accuracy: 0.9232\n",
      "Epoch 7/10\n",
      "5083/5083 [==============================] - 23s 5ms/step - loss: 0.1773 - accuracy: 0.9480 - val_loss: 0.2938 - val_accuracy: 0.9289\n",
      "Epoch 8/10\n",
      "5083/5083 [==============================] - 24s 5ms/step - loss: 0.1637 - accuracy: 0.9514 - val_loss: 0.3246 - val_accuracy: 0.9217\n",
      "Epoch 9/10\n",
      "5083/5083 [==============================] - 24s 5ms/step - loss: 0.1528 - accuracy: 0.9545 - val_loss: 0.3396 - val_accuracy: 0.9227\n",
      "Epoch 10/10\n",
      "5083/5083 [==============================] - 29s 6ms/step - loss: 0.1431 - accuracy: 0.9573 - val_loss: 0.3623 - val_accuracy: 0.9225\n"
     ]
    }
   ],
   "source": [
    "history = ks_model.fit(X_train, y_train, epochs=10, validation_split=0.3)"
   ]
  },
  {
   "cell_type": "markdown",
   "id": "c7ab418a-ea0a-450e-9232-9d135d9f4a1a",
   "metadata": {},
   "source": [
    "Using the GPU power of Colab, each epoch of training only took about 30 seconds. We can also see that the model accuracy is quite high - at the end of training it appears we are able to correctly classify the hiragana with over 95% accuracy! We should dig deeper here...\n",
    "\n",
    "We can see the history object contains, the loss and accuracy for both the training data and the validation data:"
   ]
  },
  {
   "cell_type": "code",
   "execution_count": 16,
   "id": "166d6910-0bec-4c08-8ae3-0fd7bcb422e2",
   "metadata": {
    "colab": {
     "base_uri": "https://localhost:8080/"
    },
    "id": "dc0615a2-f3a6-446a-93b0-820fd86c6901",
    "outputId": "6630bd01-66dd-457f-f79a-7b3c5a464f5e"
   },
   "outputs": [
    {
     "data": {
      "text/plain": [
       "dict_keys(['loss', 'accuracy', 'val_loss', 'val_accuracy'])"
      ]
     },
     "execution_count": 16,
     "metadata": {},
     "output_type": "execute_result"
    }
   ],
   "source": [
    "history.history.keys()"
   ]
  },
  {
   "cell_type": "markdown",
   "id": "4aa3c80a-e141-4f38-af63-7c2e8816f5b2",
   "metadata": {},
   "source": [
    "Now let's plot the *learning curves* to see how the model performance evolved over the course of training, both when evaluated against the training data (the data the model has already seen) and the data which was set aside (the validation set):"
   ]
  },
  {
   "cell_type": "code",
   "execution_count": 22,
   "id": "33f8e8b6-4b4a-49d2-aad5-43ed76232fee",
   "metadata": {
    "colab": {
     "base_uri": "https://localhost:8080/",
     "height": 370
    },
    "id": "8fb38c3c-e18f-4666-adc8-0ab470d9f577",
    "outputId": "78c6708a-293f-43d9-caad-cc001a932e45"
   },
   "outputs": [
    {
     "data": {
      "image/png": "[encoded data removed]",
      "text/plain": [
       "<Figure size 720x360 with 2 Axes>"
      ]
     },
     "metadata": {
      "needs_background": "light"
     },
     "output_type": "display_data"
    }
   ],
   "source": [
    "plt.subplots(1,2, figsize=(10, 5))\n",
    "\n",
    "# Accuracy plot\n",
    "plt.subplot(1,2,1)\n",
    "plt.plot(history.history['accuracy'], marker='.', label='training')\n",
    "plt.plot(history.history['val_accuracy'], marker='.', label='validation')\n",
    "plt.xlabel('Epoch of training')\n",
    "plt.ylabel('Accuracy')\n",
    "plt.legend()\n",
    "plt.xticks(np.arange(10)+1)\n",
    "\n",
    "# Loss plot\n",
    "plt.subplot(1,2,2)\n",
    "plt.plot(history.history['loss'], marker='.', label='training')\n",
    "plt.plot(history.history['val_loss'], marker='.', label='validation')\n",
    "plt.xlabel('Epoch of training')\n",
    "plt.ylabel('Loss')\n",
    "plt.legend()\n",
    "plt.xticks(np.arange(10)+1)\n",
    "\n",
    "plt.suptitle('Learning Curves for Kuzushiji-49 CNN #1')\n",
    "plt.show()"
   ]
  },
  {
   "cell_type": "markdown",
   "id": "4fe19d6e-4969-4e6a-8e05-bcc5afb56b47",
   "metadata": {},
   "source": [
    "Hmm, well there's good news and bad news. The good news is, as we noted before, that our model is over 95% accurate! The bad news is that performance was attained only after one epoch of training. We can see that for epochs 2-10, the training performance increases, however the validation performance (the performance of the model on data it *has not seen*) does not improve; in fact, if anything it appears to be getting worse.\n",
    "\n",
    "This is a hallmark case of [overfitting](https://en.wikipedia.org/wiki/Overfitting), the bane of the machine learning practitioner's existence. The model is learning the particulars of the data it is seeing (being trained upon), not the overall patterns that make up the underlying phenomena, in this case, how hiragana are trained.\n",
    "\n",
    "To combat this, we will introduce a neural network technique called *dropout* - here some of the nodes are randomly \"switched off\" during training - research has shown that this is an effective way to reduce overfitting in neural networks, or a type of *regularization* (generally speaking, anything changes made to the model training to reduce overfitting).\n",
    "\n",
    "In Tensorflow, this is implemented as a [type of layer](https://www.tensorflow.org/api_docs/python/tf/keras/layers/Dropout) randomly setting a proportion of the outputs of the previous layer to zero, which is equivalent to the previous layer having those weights set to zero. \n",
    "\n",
    "We can now update our model architecture to include dropout, and hopefully this should help with the overfitting. We will apply a dropout of 30% to each convolutional layer:"
   ]
  },
  {
   "cell_type": "code",
   "execution_count": 25,
   "id": "47e38938-726c-4a02-bea5-2618536ba4e2",
   "metadata": {
    "colab": {
     "base_uri": "https://localhost:8080/"
    },
    "id": "-_x8a5NP3nOW",
    "outputId": "9b74fc9e-ae11-4ed4-8120-dd7c8cb72cda"
   },
   "outputs": [],
   "source": [
    "ks_model = Sequential()\n",
    "\n",
    "ks_model.add(Input(shape=(28, 28, 1)))\n",
    "ks_model.add(Conv2D(32, kernel_size=(3, 3), activation=\"relu\"))\n",
    "ks_model.add(Dropout(0.3))\n",
    "ks_model.add(MaxPooling2D(pool_size=(2, 2)))\n",
    "ks_model.add(Conv2D(64, kernel_size=(3, 3), activation=\"relu\"))\n",
    "ks_model.add(Dropout(0.3))\n",
    "ks_model.add(MaxPooling2D(pool_size=(2, 2)))\n",
    "ks_model.add(Flatten())\n",
    "ks_model.add(Dense(49, activation=\"softmax\"))\n",
    "\n",
    "ks_model.compile(loss=\"sparse_categorical_crossentropy\", optimizer=\"adam\", metrics=[\"accuracy\"])\n",
    "\n",
    "ks_model.summary()"
   ]
  },
  {
   "cell_type": "markdown",
   "id": "ab876dc9-f529-47f8-a1e8-34c7e58aa11d",
   "metadata": {},
   "source": [
    "Now we can train the model again from the start with dropout added:"
   ]
  },
  {
   "cell_type": "code",
   "execution_count": 26,
   "id": "3abe65ab-c127-421d-b6a8-0b7161367cd1",
   "metadata": {
    "colab": {
     "base_uri": "https://localhost:8080/"
    },
    "id": "OWk0A_sZ3rTV",
    "outputId": "0b90d0c1-ff34-4b44-f68a-4cf212b28dae"
   },
   "outputs": [
    {
     "name": "stdout",
     "output_type": "stream",
     "text": [
      "Epoch 1/10\n",
      "5083/5083 [==============================] - 27s 5ms/step - loss: 1.0476 - accuracy: 0.7720 - val_loss: 0.5039 - val_accuracy: 0.8807\n",
      "Epoch 2/10\n",
      "5083/5083 [==============================] - 30s 6ms/step - loss: 0.4541 - accuracy: 0.8752 - val_loss: 0.3609 - val_accuracy: 0.9079\n",
      "Epoch 3/10\n",
      "5083/5083 [==============================] - 24s 5ms/step - loss: 0.3987 - accuracy: 0.8886 - val_loss: 0.3516 - val_accuracy: 0.9121\n",
      "Epoch 4/10\n",
      "5083/5083 [==============================] - 25s 5ms/step - loss: 0.3740 - accuracy: 0.8960 - val_loss: 0.3585 - val_accuracy: 0.9068\n",
      "Epoch 5/10\n",
      "5083/5083 [==============================] - 25s 5ms/step - loss: 0.3562 - accuracy: 0.8994 - val_loss: 0.3204 - val_accuracy: 0.9180\n",
      "Epoch 6/10\n",
      "5083/5083 [==============================] - 25s 5ms/step - loss: 0.3438 - accuracy: 0.9036 - val_loss: 0.3669 - val_accuracy: 0.9177\n",
      "Epoch 7/10\n",
      "5083/5083 [==============================] - 25s 5ms/step - loss: 0.3382 - accuracy: 0.9038 - val_loss: 0.3052 - val_accuracy: 0.9196\n",
      "Epoch 8/10\n",
      "5083/5083 [==============================] - 24s 5ms/step - loss: 0.3274 - accuracy: 0.9068 - val_loss: 0.3045 - val_accuracy: 0.9212\n",
      "Epoch 9/10\n",
      "5083/5083 [==============================] - 24s 5ms/step - loss: 0.3230 - accuracy: 0.9089 - val_loss: 0.3132 - val_accuracy: 0.9217\n",
      "Epoch 10/10\n",
      "5083/5083 [==============================] - 25s 5ms/step - loss: 0.3126 - accuracy: 0.9110 - val_loss: 0.2919 - val_accuracy: 0.9237\n"
     ]
    }
   ],
   "source": [
    "history = ks_model.fit(X_train, y_train, epochs=10, validation_split=0.3)"
   ]
  },
  {
   "cell_type": "markdown",
   "id": "716c8733-e3ac-4c2e-819d-3410551471d2",
   "metadata": {},
   "source": [
    "And plot the learning curves for the new model with regularization applied:"
   ]
  },
  {
   "cell_type": "code",
   "execution_count": 38,
   "id": "ea44a03a-c3ab-4af4-8494-01b7e04ed1c0",
   "metadata": {
    "colab": {
     "base_uri": "https://localhost:8080/",
     "height": 370
    },
    "id": "770VFPck4rXY",
    "outputId": "09c44622-e386-42b3-87f8-58dda063fb2b"
   },
   "outputs": [
    {
     "data": {
      "image/png": "[encoded data removed]",
      "text/plain": [
       "<Figure size 720x360 with 2 Axes>"
      ]
     },
     "metadata": {
      "needs_background": "light"
     },
     "output_type": "display_data"
    }
   ],
   "source": [
    "epochs = np.arange(10) + 1\n",
    "\n",
    "plt.subplots(1,2, figsize=(10, 5))\n",
    "\n",
    "# Accuracy plot\n",
    "plt.subplot(1,2,1)\n",
    "plt.plot(epochs, history.history['accuracy'], marker='.', label='training')\n",
    "plt.plot(epochs, history.history['val_accuracy'], marker='.', label='validation')\n",
    "plt.xlabel('Epoch of training')\n",
    "plt.ylabel('Accuracy')\n",
    "plt.legend()\n",
    "\n",
    "# Loss plot\n",
    "plt.subplot(1,2,2)\n",
    "plt.plot(epochs, history.history['loss'], marker='.', label='training')\n",
    "plt.plot(epochs, history.history['val_loss'], marker='.', label='validation')\n",
    "plt.xlabel('Epoch of training')\n",
    "plt.ylabel('Loss')\n",
    "plt.legend()\n",
    "\n",
    "plt.suptitle('Learning Curves for Kuzushiji-49 CNN #1')\n",
    "plt.show()"
   ]
  },
  {
   "cell_type": "code",
   "execution_count": 26,
   "id": "dd341237-b19c-40b6-914b-06933719bc62",
   "metadata": {
    "colab": {
     "base_uri": "https://localhost:8080/"
    },
    "id": "OWk0A_sZ3rTV",
    "outputId": "0b90d0c1-ff34-4b44-f68a-4cf212b28dae"
   },
   "outputs": [
    {
     "name": "stdout",
     "output_type": "stream",
     "text": [
      "Epoch 1/10\n",
      "5083/5083 [==============================] - 27s 5ms/step - loss: 1.0476 - accuracy: 0.7720 - val_loss: 0.5039 - val_accuracy: 0.8807\n",
      "Epoch 2/10\n",
      "5083/5083 [==============================] - 30s 6ms/step - loss: 0.4541 - accuracy: 0.8752 - val_loss: 0.3609 - val_accuracy: 0.9079\n",
      "Epoch 3/10\n",
      "5083/5083 [==============================] - 24s 5ms/step - loss: 0.3987 - accuracy: 0.8886 - val_loss: 0.3516 - val_accuracy: 0.9121\n",
      "Epoch 4/10\n",
      "5083/5083 [==============================] - 25s 5ms/step - loss: 0.3740 - accuracy: 0.8960 - val_loss: 0.3585 - val_accuracy: 0.9068\n",
      "Epoch 5/10\n",
      "5083/5083 [==============================] - 25s 5ms/step - loss: 0.3562 - accuracy: 0.8994 - val_loss: 0.3204 - val_accuracy: 0.9180\n",
      "Epoch 6/10\n",
      "5083/5083 [==============================] - 25s 5ms/step - loss: 0.3438 - accuracy: 0.9036 - val_loss: 0.3669 - val_accuracy: 0.9177\n",
      "Epoch 7/10\n",
      "5083/5083 [==============================] - 25s 5ms/step - loss: 0.3382 - accuracy: 0.9038 - val_loss: 0.3052 - val_accuracy: 0.9196\n",
      "Epoch 8/10\n",
      "5083/5083 [==============================] - 24s 5ms/step - loss: 0.3274 - accuracy: 0.9068 - val_loss: 0.3045 - val_accuracy: 0.9212\n",
      "Epoch 9/10\n",
      "5083/5083 [==============================] - 24s 5ms/step - loss: 0.3230 - accuracy: 0.9089 - val_loss: 0.3132 - val_accuracy: 0.9217\n",
      "Epoch 10/10\n",
      "5083/5083 [==============================] - 25s 5ms/step - loss: 0.3126 - accuracy: 0.9110 - val_loss: 0.2919 - val_accuracy: 0.9237\n"
     ]
    }
   ],
   "source": [
    "history = ks_model.fit(X_train, y_train, epochs=10, validation_split=0.3)"
   ]
  },
  {
   "cell_type": "code",
   "execution_count": 25,
   "id": "b0ed0208-7951-4232-a7d0-bdf5162ed04b",
   "metadata": {
    "executionInfo": {
     "elapsed": 6,
     "status": "ok",
     "timestamp": 1675780075321,
     "user": {
      "displayName": "Myles Harrison",
      "userId": "02225822412878142066"
     },
     "user_tz": 300
    },
    "id": "b0ed0208-7951-4232-a7d0-bdf5162ed04b"
   },
   "outputs": [],
   "source": [
    "y_pred = y_proba.argmax(axis=1)"
   ]
  },
  {
   "cell_type": "code",
   "execution_count": 26,
   "id": "f11ab0b9-d6b9-4362-b363-2cf9d3394af8",
   "metadata": {
    "executionInfo": {
     "elapsed": 1546,
     "status": "ok",
     "timestamp": 1675780076862,
     "user": {
      "displayName": "Myles Harrison",
      "userId": "02225822412878142066"
     },
     "user_tz": 300
    },
    "id": "f11ab0b9-d6b9-4362-b363-2cf9d3394af8"
   },
   "outputs": [],
   "source": [
    "from sklearn.metrics import accuracy_score, confusion_matrix, classification_report"
   ]
  },
  {
   "cell_type": "code",
   "execution_count": 27,
   "id": "f05267f3-b83b-41f7-95a8-2ad6f639aacc",
   "metadata": {
    "colab": {
     "base_uri": "https://localhost:8080/"
    },
    "executionInfo": {
     "elapsed": 33,
     "status": "ok",
     "timestamp": 1675780076863,
     "user": {
      "displayName": "Myles Harrison",
      "userId": "02225822412878142066"
     },
     "user_tz": 300
    },
    "id": "f05267f3-b83b-41f7-95a8-2ad6f639aacc",
    "outputId": "94b583bb-2af2-403f-880d-101f33adbae0"
   },
   "outputs": [
    {
     "data": {
      "text/plain": [
       "0.8626871092432614"
      ]
     },
     "execution_count": 27,
     "metadata": {},
     "output_type": "execute_result"
    }
   ],
   "source": [
    "accuracy_score(y_test, y_pred)"
   ]
  },
  {
   "cell_type": "code",
   "execution_count": 28,
   "id": "6557d9f1-b328-4d38-8e46-afe6d228b4c2",
   "metadata": {
    "executionInfo": {
     "elapsed": 31,
     "status": "ok",
     "timestamp": 1675780076864,
     "user": {
      "displayName": "Myles Harrison",
      "userId": "02225822412878142066"
     },
     "user_tz": 300
    },
    "id": "6557d9f1-b328-4d38-8e46-afe6d228b4c2"
   },
   "outputs": [],
   "source": [
    "class_report = classification_report(y_test, y_pred, output_dict=True)"
   ]
  },
  {
   "cell_type": "code",
   "execution_count": 29,
   "id": "8718b48d-b188-4e43-94cd-9220b78bf329",
   "metadata": {
    "colab": {
     "base_uri": "https://localhost:8080/",
     "height": 206
    },
    "executionInfo": {
     "elapsed": 32,
     "status": "ok",
     "timestamp": 1675780076865,
     "user": {
      "displayName": "Myles Harrison",
      "userId": "02225822412878142066"
     },
     "user_tz": 300
    },
    "id": "8718b48d-b188-4e43-94cd-9220b78bf329",
    "outputId": "0a2bddae-4b22-4f6f-89d9-81f47ca6f35d"
   },
   "outputs": [
    {
     "data": {
      "text/html": [
       "\n",
       "  <div id=\"df-6f7ea1d9-dd02-4cee-923c-063c32469895\">\n",
       "    <div class=\"colab-df-container\">\n",
       "      <div>\n",
       "<style scoped>\n",
       "    .dataframe tbody tr th:only-of-type {\n",
       "        vertical-align: middle;\n",
       "    }\n",
       "\n",
       "    .dataframe tbody tr th {\n",
       "        vertical-align: top;\n",
       "    }\n",
       "\n",
       "    .dataframe thead th {\n",
       "        text-align: right;\n",
       "    }\n",
       "</style>\n",
       "<table border=\"1\" class=\"dataframe\">\n",
       "  <thead>\n",
       "    <tr style=\"text-align: right;\">\n",
       "      <th></th>\n",
       "      <th>precision</th>\n",
       "      <th>recall</th>\n",
       "      <th>f1-score</th>\n",
       "      <th>support</th>\n",
       "    </tr>\n",
       "  </thead>\n",
       "  <tbody>\n",
       "    <tr>\n",
       "      <th>0</th>\n",
       "      <td>0.899899</td>\n",
       "      <td>0.890000</td>\n",
       "      <td>0.894922</td>\n",
       "      <td>1000.0</td>\n",
       "    </tr>\n",
       "    <tr>\n",
       "      <th>1</th>\n",
       "      <td>0.962810</td>\n",
       "      <td>0.932000</td>\n",
       "      <td>0.947154</td>\n",
       "      <td>1000.0</td>\n",
       "    </tr>\n",
       "    <tr>\n",
       "      <th>2</th>\n",
       "      <td>0.912451</td>\n",
       "      <td>0.938000</td>\n",
       "      <td>0.925049</td>\n",
       "      <td>1000.0</td>\n",
       "    </tr>\n",
       "    <tr>\n",
       "      <th>3</th>\n",
       "      <td>0.632184</td>\n",
       "      <td>0.873016</td>\n",
       "      <td>0.733333</td>\n",
       "      <td>126.0</td>\n",
       "    </tr>\n",
       "    <tr>\n",
       "      <th>4</th>\n",
       "      <td>0.855100</td>\n",
       "      <td>0.897000</td>\n",
       "      <td>0.875549</td>\n",
       "      <td>1000.0</td>\n",
       "    </tr>\n",
       "  </tbody>\n",
       "</table>\n",
       "</div>\n",
       "      <button class=\"colab-df-convert\" onclick=\"convertToInteractive('df-6f7ea1d9-dd02-4cee-923c-063c32469895')\"\n",
       "              title=\"Convert this dataframe to an interactive table.\"\n",
       "              style=\"display:none;\">\n",
       "        \n",
       "  <svg xmlns=\"http://www.w3.org/2000/svg\" height=\"24px\"viewBox=\"0 0 24 24\"\n",
       "       width=\"24px\">\n",
       "    <path d=\"M0 0h24v24H0V0z\" fill=\"none\"/>\n",
       "    <path d=\"M18.56 5.44l.94 2.06.94-2.06 2.06-.94-2.06-.94-.94-2.06-.94 2.06-2.06.94zm-11 1L8.5 8.5l.94-2.06 2.06-.94-2.06-.94L8.5 2.5l-.94 2.06-2.06.94zm10 10l.94 2.06.94-2.06 2.06-.94-2.06-.94-.94-2.06-.94 2.06-2.06.94z\"/><path d=\"M17.41 7.96l-1.37-1.37c-.4-.4-.92-.59-1.43-.59-.52 0-1.04.2-1.43.59L10.3 9.45l-7.72 7.72c-.78.78-.78 2.05 0 2.83L4 21.41c.39.39.9.59 1.41.59.51 0 1.02-.2 1.41-.59l7.78-7.78 2.81-2.81c.8-.78.8-2.07 0-2.86zM5.41 20L4 18.59l7.72-7.72 1.47 1.35L5.41 20z\"/>\n",
       "  </svg>\n",
       "      </button>\n",
       "      \n",
       "  <style>\n",
       "    .colab-df-container {\n",
       "      display:flex;\n",
       "      flex-wrap:wrap;\n",
       "      gap: 12px;\n",
       "    }\n",
       "\n",
       "    .colab-df-convert {\n",
       "      background-color: #E8F0FE;\n",
       "      border: none;\n",
       "      border-radius: 50%;\n",
       "      cursor: pointer;\n",
       "      display: none;\n",
       "      fill: #1967D2;\n",
       "      height: 32px;\n",
       "      padding: 0 0 0 0;\n",
       "      width: 32px;\n",
       "    }\n",
       "\n",
       "    .colab-df-convert:hover {\n",
       "      background-color: #E2EBFA;\n",
       "      box-shadow: 0px 1px 2px rgba(60, 64, 67, 0.3), 0px 1px 3px 1px rgba(60, 64, 67, 0.15);\n",
       "      fill: #174EA6;\n",
       "    }\n",
       "\n",
       "    [theme=dark] .colab-df-convert {\n",
       "      background-color: #3B4455;\n",
       "      fill: #D2E3FC;\n",
       "    }\n",
       "\n",
       "    [theme=dark] .colab-df-convert:hover {\n",
       "      background-color: #434B5C;\n",
       "      box-shadow: 0px 1px 3px 1px rgba(0, 0, 0, 0.15);\n",
       "      filter: drop-shadow(0px 1px 2px rgba(0, 0, 0, 0.3));\n",
       "      fill: #FFFFFF;\n",
       "    }\n",
       "  </style>\n",
       "\n",
       "      <script>\n",
       "        const buttonEl =\n",
       "          document.querySelector('#df-6f7ea1d9-dd02-4cee-923c-063c32469895 button.colab-df-convert');\n",
       "        buttonEl.style.display =\n",
       "          google.colab.kernel.accessAllowed ? 'block' : 'none';\n",
       "\n",
       "        async function convertToInteractive(key) {\n",
       "          const element = document.querySelector('#df-6f7ea1d9-dd02-4cee-923c-063c32469895');\n",
       "          const dataTable =\n",
       "            await google.colab.kernel.invokeFunction('convertToInteractive',\n",
       "                                                     [key], {});\n",
       "          if (!dataTable) return;\n",
       "\n",
       "          const docLinkHtml = 'Like what you see? Visit the ' +\n",
       "            '<a target=\"_blank\" href=https://colab.research.google.com/notebooks/data_table.ipynb>data table notebook</a>'\n",
       "            + ' to learn more about interactive tables.';\n",
       "          element.innerHTML = '';\n",
       "          dataTable['output_type'] = 'display_data';\n",
       "          await google.colab.output.renderOutput(dataTable, element);\n",
       "          const docLink = document.createElement('div');\n",
       "          docLink.innerHTML = docLinkHtml;\n",
       "          element.appendChild(docLink);\n",
       "        }\n",
       "      </script>\n",
       "    </div>\n",
       "  </div>\n",
       "  "
      ],
      "text/plain": [
       "   precision    recall  f1-score  support\n",
       "0   0.899899  0.890000  0.894922   1000.0\n",
       "1   0.962810  0.932000  0.947154   1000.0\n",
       "2   0.912451  0.938000  0.925049   1000.0\n",
       "3   0.632184  0.873016  0.733333    126.0\n",
       "4   0.855100  0.897000  0.875549   1000.0"
      ]
     },
     "execution_count": 29,
     "metadata": {},
     "output_type": "execute_result"
    }
   ],
   "source": [
    "report_df = pd.DataFrame(class_report).T\n",
    "\n",
    "report_df.head()"
   ]
  },
  {
   "cell_type": "code",
   "execution_count": 30,
   "id": "8dbf7246-427e-45a0-9ad7-71510d48d9c1",
   "metadata": {
    "executionInfo": {
     "elapsed": 31,
     "status": "ok",
     "timestamp": 1675780076866,
     "user": {
      "displayName": "Myles Harrison",
      "userId": "02225822412878142066"
     },
     "user_tz": 300
    },
    "id": "8dbf7246-427e-45a0-9ad7-71510d48d9c1"
   },
   "outputs": [],
   "source": [
    "classmap.index = classmap.index.astype(str)"
   ]
  },
  {
   "cell_type": "code",
   "execution_count": 31,
   "id": "2bc74dda-41f6-483a-93bd-e452bea75344",
   "metadata": {
    "colab": {
     "base_uri": "https://localhost:8080/",
     "height": 206
    },
    "executionInfo": {
     "elapsed": 31,
     "status": "ok",
     "timestamp": 1675780076867,
     "user": {
      "displayName": "Myles Harrison",
      "userId": "02225822412878142066"
     },
     "user_tz": 300
    },
    "id": "2bc74dda-41f6-483a-93bd-e452bea75344",
    "outputId": "a7db422f-e66a-4c86-9e68-4fdc023a3807"
   },
   "outputs": [
    {
     "data": {
      "text/html": [
       "\n",
       "  <div id=\"df-0cdafba4-6daa-4bf9-bb3e-f5eda0720ac5\">\n",
       "    <div class=\"colab-df-container\">\n",
       "      <div>\n",
       "<style scoped>\n",
       "    .dataframe tbody tr th:only-of-type {\n",
       "        vertical-align: middle;\n",
       "    }\n",
       "\n",
       "    .dataframe tbody tr th {\n",
       "        vertical-align: top;\n",
       "    }\n",
       "\n",
       "    .dataframe thead th {\n",
       "        text-align: right;\n",
       "    }\n",
       "</style>\n",
       "<table border=\"1\" class=\"dataframe\">\n",
       "  <thead>\n",
       "    <tr style=\"text-align: right;\">\n",
       "      <th></th>\n",
       "      <th>precision</th>\n",
       "      <th>recall</th>\n",
       "      <th>f1-score</th>\n",
       "      <th>support</th>\n",
       "      <th>index</th>\n",
       "      <th>codepoint</th>\n",
       "      <th>char</th>\n",
       "    </tr>\n",
       "  </thead>\n",
       "  <tbody>\n",
       "    <tr>\n",
       "      <th>0</th>\n",
       "      <td>0.899899</td>\n",
       "      <td>0.890000</td>\n",
       "      <td>0.894922</td>\n",
       "      <td>1000.0</td>\n",
       "      <td>0.0</td>\n",
       "      <td>U+3042</td>\n",
       "      <td>あ</td>\n",
       "    </tr>\n",
       "    <tr>\n",
       "      <th>1</th>\n",
       "      <td>0.962810</td>\n",
       "      <td>0.932000</td>\n",
       "      <td>0.947154</td>\n",
       "      <td>1000.0</td>\n",
       "      <td>1.0</td>\n",
       "      <td>U+3044</td>\n",
       "      <td>い</td>\n",
       "    </tr>\n",
       "    <tr>\n",
       "      <th>2</th>\n",
       "      <td>0.912451</td>\n",
       "      <td>0.938000</td>\n",
       "      <td>0.925049</td>\n",
       "      <td>1000.0</td>\n",
       "      <td>2.0</td>\n",
       "      <td>U+3046</td>\n",
       "      <td>う</td>\n",
       "    </tr>\n",
       "    <tr>\n",
       "      <th>3</th>\n",
       "      <td>0.632184</td>\n",
       "      <td>0.873016</td>\n",
       "      <td>0.733333</td>\n",
       "      <td>126.0</td>\n",
       "      <td>3.0</td>\n",
       "      <td>U+3048</td>\n",
       "      <td>え</td>\n",
       "    </tr>\n",
       "    <tr>\n",
       "      <th>4</th>\n",
       "      <td>0.855100</td>\n",
       "      <td>0.897000</td>\n",
       "      <td>0.875549</td>\n",
       "      <td>1000.0</td>\n",
       "      <td>4.0</td>\n",
       "      <td>U+304A</td>\n",
       "      <td>お</td>\n",
       "    </tr>\n",
       "  </tbody>\n",
       "</table>\n",
       "</div>\n",
       "      <button class=\"colab-df-convert\" onclick=\"convertToInteractive('df-0cdafba4-6daa-4bf9-bb3e-f5eda0720ac5')\"\n",
       "              title=\"Convert this dataframe to an interactive table.\"\n",
       "              style=\"display:none;\">\n",
       "        \n",
       "  <svg xmlns=\"http://www.w3.org/2000/svg\" height=\"24px\"viewBox=\"0 0 24 24\"\n",
       "       width=\"24px\">\n",
       "    <path d=\"M0 0h24v24H0V0z\" fill=\"none\"/>\n",
       "    <path d=\"M18.56 5.44l.94 2.06.94-2.06 2.06-.94-2.06-.94-.94-2.06-.94 2.06-2.06.94zm-11 1L8.5 8.5l.94-2.06 2.06-.94-2.06-.94L8.5 2.5l-.94 2.06-2.06.94zm10 10l.94 2.06.94-2.06 2.06-.94-2.06-.94-.94-2.06-.94 2.06-2.06.94z\"/><path d=\"M17.41 7.96l-1.37-1.37c-.4-.4-.92-.59-1.43-.59-.52 0-1.04.2-1.43.59L10.3 9.45l-7.72 7.72c-.78.78-.78 2.05 0 2.83L4 21.41c.39.39.9.59 1.41.59.51 0 1.02-.2 1.41-.59l7.78-7.78 2.81-2.81c.8-.78.8-2.07 0-2.86zM5.41 20L4 18.59l7.72-7.72 1.47 1.35L5.41 20z\"/>\n",
       "  </svg>\n",
       "      </button>\n",
       "      \n",
       "  <style>\n",
       "    .colab-df-container {\n",
       "      display:flex;\n",
       "      flex-wrap:wrap;\n",
       "      gap: 12px;\n",
       "    }\n",
       "\n",
       "    .colab-df-convert {\n",
       "      background-color: #E8F0FE;\n",
       "      border: none;\n",
       "      border-radius: 50%;\n",
       "      cursor: pointer;\n",
       "      display: none;\n",
       "      fill: #1967D2;\n",
       "      height: 32px;\n",
       "      padding: 0 0 0 0;\n",
       "      width: 32px;\n",
       "    }\n",
       "\n",
       "    .colab-df-convert:hover {\n",
       "      background-color: #E2EBFA;\n",
       "      box-shadow: 0px 1px 2px rgba(60, 64, 67, 0.3), 0px 1px 3px 1px rgba(60, 64, 67, 0.15);\n",
       "      fill: #174EA6;\n",
       "    }\n",
       "\n",
       "    [theme=dark] .colab-df-convert {\n",
       "      background-color: #3B4455;\n",
       "      fill: #D2E3FC;\n",
       "    }\n",
       "\n",
       "    [theme=dark] .colab-df-convert:hover {\n",
       "      background-color: #434B5C;\n",
       "      box-shadow: 0px 1px 3px 1px rgba(0, 0, 0, 0.15);\n",
       "      filter: drop-shadow(0px 1px 2px rgba(0, 0, 0, 0.3));\n",
       "      fill: #FFFFFF;\n",
       "    }\n",
       "  </style>\n",
       "\n",
       "      <script>\n",
       "        const buttonEl =\n",
       "          document.querySelector('#df-0cdafba4-6daa-4bf9-bb3e-f5eda0720ac5 button.colab-df-convert');\n",
       "        buttonEl.style.display =\n",
       "          google.colab.kernel.accessAllowed ? 'block' : 'none';\n",
       "\n",
       "        async function convertToInteractive(key) {\n",
       "          const element = document.querySelector('#df-0cdafba4-6daa-4bf9-bb3e-f5eda0720ac5');\n",
       "          const dataTable =\n",
       "            await google.colab.kernel.invokeFunction('convertToInteractive',\n",
       "                                                     [key], {});\n",
       "          if (!dataTable) return;\n",
       "\n",
       "          const docLinkHtml = 'Like what you see? Visit the ' +\n",
       "            '<a target=\"_blank\" href=https://colab.research.google.com/notebooks/data_table.ipynb>data table notebook</a>'\n",
       "            + ' to learn more about interactive tables.';\n",
       "          element.innerHTML = '';\n",
       "          dataTable['output_type'] = 'display_data';\n",
       "          await google.colab.output.renderOutput(dataTable, element);\n",
       "          const docLink = document.createElement('div');\n",
       "          docLink.innerHTML = docLinkHtml;\n",
       "          element.appendChild(docLink);\n",
       "        }\n",
       "      </script>\n",
       "    </div>\n",
       "  </div>\n",
       "  "
      ],
      "text/plain": [
       "   precision    recall  f1-score  support  index codepoint char\n",
       "0   0.899899  0.890000  0.894922   1000.0    0.0    U+3042    あ\n",
       "1   0.962810  0.932000  0.947154   1000.0    1.0    U+3044    い\n",
       "2   0.912451  0.938000  0.925049   1000.0    2.0    U+3046    う\n",
       "3   0.632184  0.873016  0.733333    126.0    3.0    U+3048    え\n",
       "4   0.855100  0.897000  0.875549   1000.0    4.0    U+304A    お"
      ]
     },
     "execution_count": 31,
     "metadata": {},
     "output_type": "execute_result"
    }
   ],
   "source": [
    "report_df_joined = report_df.join(classmap)\n",
    "report_df_joined.head()"
   ]
  },
  {
   "cell_type": "code",
   "execution_count": 32,
   "id": "b1b7e0a7-1166-4113-aa2f-61a3712c956f",
   "metadata": {
    "executionInfo": {
     "elapsed": 33,
     "status": "ok",
     "timestamp": 1675780076870,
     "user": {
      "displayName": "Myles Harrison",
      "userId": "02225822412878142066"
     },
     "user_tz": 300
    },
    "id": "b1b7e0a7-1166-4113-aa2f-61a3712c956f"
   },
   "outputs": [],
   "source": [
    "report_df = report_df[0:49]\n",
    "report_df.index = report_df.index.astype(int)"
   ]
  },
  {
   "cell_type": "code",
   "execution_count": 33,
   "id": "a3c3d506-f048-43c7-9032-5891a0ffea56",
   "metadata": {
    "executionInfo": {
     "elapsed": 33,
     "status": "ok",
     "timestamp": 1675780076871,
     "user": {
      "displayName": "Myles Harrison",
      "userId": "02225822412878142066"
     },
     "user_tz": 300
    },
    "id": "a3c3d506-f048-43c7-9032-5891a0ffea56"
   },
   "outputs": [],
   "source": [
    "report_df.index = report_df.index.map(classmap['char'])"
   ]
  },
  {
   "cell_type": "code",
   "execution_count": 34,
   "id": "29302223-fa07-4afa-a277-628e4848e897",
   "metadata": {
    "colab": {
     "base_uri": "https://localhost:8080/",
     "height": 36
    },
    "executionInfo": {
     "elapsed": 32,
     "status": "ok",
     "timestamp": 1675780076872,
     "user": {
      "displayName": "Myles Harrison",
      "userId": "02225822412878142066"
     },
     "user_tz": 300
    },
    "id": "29302223-fa07-4afa-a277-628e4848e897",
    "outputId": "aeb2e728-de0a-4787-ccf9-39d53e81172e"
   },
   "outputs": [
    {
     "data": {
      "application/vnd.google.colaboratory.intrinsic+json": {
       "type": "string"
      },
      "text/plain": [
       "'あ'"
      ]
     },
     "execution_count": 34,
     "metadata": {},
     "output_type": "execute_result"
    }
   ],
   "source": [
    "report_df_joined.loc['0', 'char']"
   ]
  },
  {
   "cell_type": "code",
   "execution_count": 35,
   "id": "d7a0107e-505d-4c01-9545-411bcc484087",
   "metadata": {
    "colab": {
     "base_uri": "https://localhost:8080/"
    },
    "executionInfo": {
     "elapsed": 32,
     "status": "ok",
     "timestamp": 1675780076874,
     "user": {
      "displayName": "Myles Harrison",
      "userId": "02225822412878142066"
     },
     "user_tz": 300
    },
    "id": "d7a0107e-505d-4c01-9545-411bcc484087",
    "outputId": "839293bd-5fba-46b6-8680-01043fec9e7e"
   },
   "outputs": [
    {
     "data": {
      "text/plain": [
       "Index(['0', '1', '2', '3', '4', '5', '6', '7', '8', '9', '10', '11', '12',\n",
       "       '13', '14', '15', '16', '17', '18', '19', '20', '21', '22', '23', '24',\n",
       "       '25', '26', '27', '28', '29', '30', '31', '32', '33', '34', '35', '36',\n",
       "       '37', '38', '39', '40', '41', '42', '43', '44', '45', '46', '47', '48',\n",
       "       'accuracy', 'macro avg', 'weighted avg'],\n",
       "      dtype='object')"
      ]
     },
     "execution_count": 35,
     "metadata": {},
     "output_type": "execute_result"
    }
   ],
   "source": [
    "report_df_joined.index"
   ]
  },
  {
   "cell_type": "code",
   "execution_count": 38,
   "id": "70fe169b-90c9-40a4-8dff-94d4a0e50e41",
   "metadata": {
    "colab": {
     "base_uri": "https://localhost:8080/",
     "height": 281
    },
    "executionInfo": {
     "elapsed": 19,
     "status": "ok",
     "timestamp": 1675780077283,
     "user": {
      "displayName": "Myles Harrison",
      "userId": "02225822412878142066"
     },
     "user_tz": 300
    },
    "id": "70fe169b-90c9-40a4-8dff-94d4a0e50e41",
    "outputId": "c6b79c79-f5fb-4bb5-9dd4-4c6659ece85f"
   },
   "outputs": [
    {
     "data": {
      "image/png": "[encoded data removed]",
      "text/plain": [
       "<Figure size 432x288 with 1 Axes>"
      ]
     },
     "metadata": {
      "needs_background": "light"
     },
     "output_type": "display_data"
    }
   ],
   "source": [
    "#matplotlib.rcParams['font.sans-serif'] = ['Noto Sans Japanese', 'sans-serif']\n",
    "\n",
    "plt.scatter(report_df_joined['precision'], report_df_joined['recall'], s=20)\n",
    "\n",
    "for i in np.arange(49).astype(str):\n",
    "    \n",
    "    plt.annotate(report_df_joined.loc[i,'char'], (report_df_joined.loc[i, 'precision']*1.01, report_df_joined.loc[i, 'recall']*1.01),\n",
    "                fontsize=12, fontproperties=fontprop)\n",
    "    \n",
    "    plt.title(\"あ\", fontproperties=fontprop)\n",
    "\n",
    "\n",
    "plt.show()"
   ]
  }
 ],
 "metadata": {
  "accelerator": "GPU",
  "colab": {
   "provenance": []
  },
  "gpuClass": "standard",
  "kernelspec": {
   "display_name": "tf",
   "language": "python",
   "name": "tf"
  },
  "language_info": {
   "codemirror_mode": {
    "name": "ipython",
    "version": 3
   },
   "file_extension": ".py",
   "mimetype": "text/x-python",
   "name": "python",
   "nbconvert_exporter": "python",
   "pygments_lexer": "ipython3",
   "version": "3.11.1"
  }
 },
 "nbformat": 4,
 "nbformat_minor": 5
}
